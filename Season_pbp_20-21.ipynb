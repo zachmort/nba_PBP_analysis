{
 "cells": [
  {
   "cell_type": "markdown",
   "id": "85f3341f",
   "metadata": {},
   "source": [
    "# Importing Packages"
   ]
  },
  {
   "cell_type": "code",
   "execution_count": 1,
   "id": "548eb1eb",
   "metadata": {},
   "outputs": [
    {
     "name": "stdout",
     "output_type": "stream",
     "text": [
      "\n",
      "\u001b[1m[\u001b[0m\u001b[34;49mnotice\u001b[0m\u001b[1;39;49m]\u001b[0m\u001b[39;49m A new release of pip available: \u001b[0m\u001b[31;49m22.3.1\u001b[0m\u001b[39;49m -> \u001b[0m\u001b[32;49m23.0\u001b[0m\n",
      "\u001b[1m[\u001b[0m\u001b[34;49mnotice\u001b[0m\u001b[1;39;49m]\u001b[0m\u001b[39;49m To update, run: \u001b[0m\u001b[32;49mpip install --upgrade pip\u001b[0m\n",
      "\n",
      "\u001b[1m[\u001b[0m\u001b[34;49mnotice\u001b[0m\u001b[1;39;49m]\u001b[0m\u001b[39;49m A new release of pip available: \u001b[0m\u001b[31;49m22.3.1\u001b[0m\u001b[39;49m -> \u001b[0m\u001b[32;49m23.0\u001b[0m\n",
      "\u001b[1m[\u001b[0m\u001b[34;49mnotice\u001b[0m\u001b[1;39;49m]\u001b[0m\u001b[39;49m To update, run: \u001b[0m\u001b[32;49mpip install --upgrade pip\u001b[0m\n",
      "\n",
      "\u001b[1m[\u001b[0m\u001b[34;49mnotice\u001b[0m\u001b[1;39;49m]\u001b[0m\u001b[39;49m A new release of pip available: \u001b[0m\u001b[31;49m22.3.1\u001b[0m\u001b[39;49m -> \u001b[0m\u001b[32;49m23.0\u001b[0m\n",
      "\u001b[1m[\u001b[0m\u001b[34;49mnotice\u001b[0m\u001b[1;39;49m]\u001b[0m\u001b[39;49m To update, run: \u001b[0m\u001b[32;49mpip install --upgrade pip\u001b[0m\n"
     ]
    }
   ],
   "source": [
    "# Installing Packages\n",
    "!{sys.executable} -m pip install nba_api --quiet\n",
    "!{sys.executable} -m pip install pandas --quiet\n",
    "!{sys.executable} -m pip install tqdm --quiet\n",
    "\n",
    "#Importing packages\n",
    "from nba_api.stats.static import players\n",
    "from nba_api.stats.endpoints import leaguegamefinder\n",
    "from nba_api.stats.endpoints import commonplayerinfo\n",
    "from nba_api.stats.endpoints import playbyplayv2\n",
    "import requests, pandas as pd, sys\n",
    "from tqdm import tqdm\n",
    "import dateutil.parser as parser\n",
    "import numpy as np\n",
    "import time\n",
    "import seaborn as sns\n",
    "from datetime import datetime,  timedelta\n",
    "from scipy import stats\n",
    "import plotly.express as px"
   ]
  },
  {
   "cell_type": "markdown",
   "id": "8f1e2dab",
   "metadata": {},
   "source": [
    "# Setting Pandas option to show all columns"
   ]
  },
  {
   "cell_type": "code",
   "execution_count": 2,
   "id": "e8cde5fb",
   "metadata": {},
   "outputs": [],
   "source": [
    "pd.set_option('display.max_columns', None)\n",
    "pd.set_option('display.width', 1000)\n",
    "pd.set_option('display.max_rows', 25)"
   ]
  },
  {
   "cell_type": "markdown",
   "id": "36b913f2",
   "metadata": {},
   "source": [
    "# Creating Function for API pull"
   ]
  },
  {
   "cell_type": "markdown",
   "id": "7003a9c3",
   "metadata": {},
   "source": [
    "### Setting parameters for data pull"
   ]
  },
  {
   "cell_type": "code",
   "execution_count": 3,
   "id": "eea36939",
   "metadata": {},
   "outputs": [],
   "source": [
    "#Creating header var for api pull\n",
    "headers: dict[str, str]  = {\n",
    "    'Connection': 'keep-alive',\n",
    "    'Accept': 'application/json, text/plain, */*',\n",
    "    'x-nba-stats-token': 'true',\n",
    "    'User-Agent': 'Mozilla/5.0 (Macintosh; Intel Mac OS X 10_14_6) AppleWebKit/537.36 (KHTML, like Gecko) Chrome/79.0.3945.130 Safari/537.36',\n",
    "    'x-nba-stats-origin': 'stats',\n",
    "    'Sec-Fetch-Site': 'same-origin',\n",
    "    'Sec-Fetch-Mode': 'cors',\n",
    "    'Referer': 'https://stats.nba.com/',\n",
    "    'Accept-Encoding': 'gzip, deflate, br',\n",
    "    'Accept-Language': 'en-US,en;q=0.9',\n",
    "}"
   ]
  },
  {
   "cell_type": "markdown",
   "id": "9737e8b6",
   "metadata": {},
   "source": [
    "### Function that Pulls API data"
   ]
  },
  {
   "cell_type": "code",
   "execution_count": 4,
   "id": "1b61f8f2",
   "metadata": {},
   "outputs": [],
   "source": [
    "# create function that gets pbp (play by play) logs from the 2021-22 season\n",
    "def get_data(game_id) -> pd.DataFrame:\n",
    "    play_by_play_url = \"https://cdn.nba.com/static/json/liveData/playbyplay/playbyplay_\"+game_id+\".json\"\n",
    "    response = requests.get(url=play_by_play_url, headers=headers).json()\n",
    "    play_by_play = response['game']['actions']\n",
    "    df = pd.DataFrame(play_by_play)\n",
    "    df['gameid'] = game_id\n",
    "    return df"
   ]
  },
  {
   "cell_type": "markdown",
   "id": "3d61378b",
   "metadata": {},
   "source": [
    "### Defining parameters for data pull"
   ]
  },
  {
   "cell_type": "code",
   "execution_count": 5,
   "id": "d051da54",
   "metadata": {},
   "outputs": [],
   "source": [
    "gamefinder = leaguegamefinder.LeagueGameFinder(season_nullable='2021-22',\n",
    "                                               league_id_nullable='00',\n",
    "                                               season_type_nullable='Regular Season')"
   ]
  },
  {
   "cell_type": "markdown",
   "id": "4e6ff397",
   "metadata": {},
   "source": [
    "## Retrieving Game Ids"
   ]
  },
  {
   "cell_type": "markdown",
   "id": "70e3297f",
   "metadata": {},
   "source": [
    "## List of unique game ids for 2021-2022 season"
   ]
  },
  {
   "cell_type": "code",
   "execution_count": 6,
   "id": "06b6a774",
   "metadata": {},
   "outputs": [
    {
     "name": "stderr",
     "output_type": "stream",
     "text": [
      "100%|██████████| 1230/1230 [17:59<00:00,  1.14it/s] \n"
     ]
    }
   ],
   "source": [
    "# # Retrieving all game dataframes to get unique game ids\n",
    "# games = gamefinder.get_data_frames()[0]\n",
    "\n",
    "# #getting a list of distinct game ids\n",
    "# game_ids = games['GAME_ID'].unique()\n",
    "\n",
    "# # Setting an empty list for the game information\n",
    "# pbpdata = []\n",
    "\n",
    "# #Here TDQM() creates a % completion bar\n",
    "# for game_id in tqdm(game_ids):\n",
    "#     game_data: pd.DataFrame = get_data(game_id)\n",
    "#     pbpdata.append(game_data)\n",
    "\n",
    "# final_df: pd.DataFrame = pd.concat(pbpdata, ignore_index=True)"
   ]
  },
  {
   "cell_type": "markdown",
   "id": "5e767d5c",
   "metadata": {},
   "source": [
    "### Section to read data in manually from local storage"
   ]
  },
  {
   "cell_type": "code",
   "execution_count": 64,
   "id": "811ad596",
   "metadata": {},
   "outputs": [],
   "source": [
    "# final_df.to_csv(r'nba_data.csv')"
   ]
  },
  {
   "cell_type": "code",
   "execution_count": null,
   "id": "7fa6c2fb",
   "metadata": {},
   "outputs": [],
   "source": [
    "### Removing index from data\n",
    "# pd.read_csv('nba_data.csv', index_col=0)"
   ]
  },
  {
   "cell_type": "code",
   "execution_count": null,
   "id": "2e74d7ec",
   "metadata": {},
   "outputs": [],
   "source": [
    "final_df = pd.read_csv('nba_data.csv')"
   ]
  },
  {
   "cell_type": "markdown",
   "id": "252e3fa2",
   "metadata": {},
   "source": [
    "# Instantiating Data Frame"
   ]
  },
  {
   "cell_type": "code",
   "execution_count": 8,
   "id": "bfea5f4c",
   "metadata": {},
   "outputs": [],
   "source": [
    "final_df_copy: pd.DataFrame = pd.DataFrame(final_df)"
   ]
  },
  {
   "cell_type": "markdown",
   "id": "a7c3239a",
   "metadata": {},
   "source": [
    "### Checking Data Loaded in Properly"
   ]
  },
  {
   "cell_type": "code",
   "execution_count": 7,
   "id": "9bea83e6",
   "metadata": {},
   "outputs": [
    {
     "name": "stdout",
     "output_type": "stream",
     "text": [
      "691875\n",
      "1230\n"
     ]
    }
   ],
   "source": [
    "print(len(final_df))\n",
    "print(len(final_df['gameid'].unique()))"
   ]
  },
  {
   "cell_type": "markdown",
   "id": "8332d028",
   "metadata": {},
   "source": [
    "## Reviewing Column Names"
   ]
  },
  {
   "cell_type": "code",
   "execution_count": 9,
   "id": "cf9e35cc",
   "metadata": {},
   "outputs": [
    {
     "data": {
      "text/plain": [
       "Index(['actionNumber', 'clock', 'timeActual', 'period', 'periodType', 'actionType', 'subType', 'qualifiers', 'personId', 'x', 'y', 'possession', 'scoreHome', 'scoreAway', 'edited', 'orderNumber', 'xLegacy', 'yLegacy', 'isFieldGoal', 'side', 'description', 'personIdsFilter', 'teamId', 'teamTricode', 'descriptor', 'jumpBallRecoveredName', 'jumpBallRecoverdPersonId', 'playerName', 'playerNameI', 'jumpBallWonPlayerName', 'jumpBallWonPersonId', 'jumpBallLostPlayerName', 'jumpBallLostPersonId', 'shotDistance', 'shotResult', 'pointsTotal', 'assistPlayerNameInitial', 'assistPersonId', 'assistTotal', 'blockPlayerName', 'blockPersonId', 'shotActionNumber', 'reboundTotal', 'reboundDefensiveTotal', 'reboundOffensiveTotal', 'turnoverTotal', 'stealPlayerName', 'stealPersonId', 'officialId', 'foulPersonalTotal', 'foulTechnicalTotal', 'foulDrawnPlayerName', 'foulDrawnPersonId', 'value', 'gameid'], dtype='object')"
      ]
     },
     "execution_count": 9,
     "metadata": {},
     "output_type": "execute_result"
    }
   ],
   "source": [
    "#Primary columns in the DF\n",
    "final_df_copy.columns"
   ]
  },
  {
   "cell_type": "code",
   "execution_count": 10,
   "id": "7b64f4de",
   "metadata": {},
   "outputs": [
    {
     "data": {
      "text/html": [
       "<div>\n",
       "<style scoped>\n",
       "    .dataframe tbody tr th:only-of-type {\n",
       "        vertical-align: middle;\n",
       "    }\n",
       "\n",
       "    .dataframe tbody tr th {\n",
       "        vertical-align: top;\n",
       "    }\n",
       "\n",
       "    .dataframe thead th {\n",
       "        text-align: right;\n",
       "    }\n",
       "</style>\n",
       "<table border=\"1\" class=\"dataframe\">\n",
       "  <thead>\n",
       "    <tr style=\"text-align: right;\">\n",
       "      <th></th>\n",
       "      <th>actionNumber</th>\n",
       "      <th>clock</th>\n",
       "      <th>timeActual</th>\n",
       "      <th>period</th>\n",
       "      <th>periodType</th>\n",
       "      <th>actionType</th>\n",
       "      <th>subType</th>\n",
       "      <th>qualifiers</th>\n",
       "      <th>personId</th>\n",
       "      <th>x</th>\n",
       "      <th>y</th>\n",
       "      <th>possession</th>\n",
       "      <th>scoreHome</th>\n",
       "      <th>scoreAway</th>\n",
       "      <th>edited</th>\n",
       "      <th>orderNumber</th>\n",
       "      <th>xLegacy</th>\n",
       "      <th>yLegacy</th>\n",
       "      <th>isFieldGoal</th>\n",
       "      <th>side</th>\n",
       "      <th>description</th>\n",
       "      <th>personIdsFilter</th>\n",
       "      <th>teamId</th>\n",
       "      <th>teamTricode</th>\n",
       "      <th>descriptor</th>\n",
       "      <th>jumpBallRecoveredName</th>\n",
       "      <th>jumpBallRecoverdPersonId</th>\n",
       "      <th>playerName</th>\n",
       "      <th>playerNameI</th>\n",
       "      <th>jumpBallWonPlayerName</th>\n",
       "      <th>jumpBallWonPersonId</th>\n",
       "      <th>jumpBallLostPlayerName</th>\n",
       "      <th>jumpBallLostPersonId</th>\n",
       "      <th>shotDistance</th>\n",
       "      <th>shotResult</th>\n",
       "      <th>pointsTotal</th>\n",
       "      <th>assistPlayerNameInitial</th>\n",
       "      <th>assistPersonId</th>\n",
       "      <th>assistTotal</th>\n",
       "      <th>blockPlayerName</th>\n",
       "      <th>blockPersonId</th>\n",
       "      <th>shotActionNumber</th>\n",
       "      <th>reboundTotal</th>\n",
       "      <th>reboundDefensiveTotal</th>\n",
       "      <th>reboundOffensiveTotal</th>\n",
       "      <th>turnoverTotal</th>\n",
       "      <th>stealPlayerName</th>\n",
       "      <th>stealPersonId</th>\n",
       "      <th>officialId</th>\n",
       "      <th>foulPersonalTotal</th>\n",
       "      <th>foulTechnicalTotal</th>\n",
       "      <th>foulDrawnPlayerName</th>\n",
       "      <th>foulDrawnPersonId</th>\n",
       "      <th>value</th>\n",
       "      <th>gameid</th>\n",
       "    </tr>\n",
       "  </thead>\n",
       "  <tbody>\n",
       "    <tr>\n",
       "      <th>0</th>\n",
       "      <td>2</td>\n",
       "      <td>PT12M00.00S</td>\n",
       "      <td>2022-04-10T19:45:26.5Z</td>\n",
       "      <td>1</td>\n",
       "      <td>REGULAR</td>\n",
       "      <td>period</td>\n",
       "      <td>start</td>\n",
       "      <td>[]</td>\n",
       "      <td>0</td>\n",
       "      <td>NaN</td>\n",
       "      <td>NaN</td>\n",
       "      <td>0</td>\n",
       "      <td>0</td>\n",
       "      <td>0</td>\n",
       "      <td>2022-04-10T19:45:26Z</td>\n",
       "      <td>20000</td>\n",
       "      <td>NaN</td>\n",
       "      <td>NaN</td>\n",
       "      <td>0</td>\n",
       "      <td>None</td>\n",
       "      <td>Period Start</td>\n",
       "      <td>[]</td>\n",
       "      <td>NaN</td>\n",
       "      <td>NaN</td>\n",
       "      <td>NaN</td>\n",
       "      <td>NaN</td>\n",
       "      <td>NaN</td>\n",
       "      <td>NaN</td>\n",
       "      <td>NaN</td>\n",
       "      <td>NaN</td>\n",
       "      <td>NaN</td>\n",
       "      <td>NaN</td>\n",
       "      <td>NaN</td>\n",
       "      <td>NaN</td>\n",
       "      <td>NaN</td>\n",
       "      <td>NaN</td>\n",
       "      <td>NaN</td>\n",
       "      <td>NaN</td>\n",
       "      <td>NaN</td>\n",
       "      <td>NaN</td>\n",
       "      <td>NaN</td>\n",
       "      <td>NaN</td>\n",
       "      <td>NaN</td>\n",
       "      <td>NaN</td>\n",
       "      <td>NaN</td>\n",
       "      <td>NaN</td>\n",
       "      <td>NaN</td>\n",
       "      <td>NaN</td>\n",
       "      <td>NaN</td>\n",
       "      <td>NaN</td>\n",
       "      <td>NaN</td>\n",
       "      <td>NaN</td>\n",
       "      <td>NaN</td>\n",
       "      <td>NaN</td>\n",
       "      <td>0022101216</td>\n",
       "    </tr>\n",
       "    <tr>\n",
       "      <th>1</th>\n",
       "      <td>4</td>\n",
       "      <td>PT11M55.00S</td>\n",
       "      <td>2022-04-10T19:45:29.9Z</td>\n",
       "      <td>1</td>\n",
       "      <td>REGULAR</td>\n",
       "      <td>jumpball</td>\n",
       "      <td>recovered</td>\n",
       "      <td>[]</td>\n",
       "      <td>1628971</td>\n",
       "      <td>NaN</td>\n",
       "      <td>NaN</td>\n",
       "      <td>1610612751</td>\n",
       "      <td>0</td>\n",
       "      <td>0</td>\n",
       "      <td>2022-04-10T19:45:29Z</td>\n",
       "      <td>40000</td>\n",
       "      <td>NaN</td>\n",
       "      <td>NaN</td>\n",
       "      <td>0</td>\n",
       "      <td>None</td>\n",
       "      <td>Jump Ball A. Drummond vs. I. Jackson: Tip to B...</td>\n",
       "      <td>[1628971, 203083, 1630543]</td>\n",
       "      <td>1.610613e+09</td>\n",
       "      <td>BKN</td>\n",
       "      <td>startperiod</td>\n",
       "      <td>B. Brown</td>\n",
       "      <td>1628971.0</td>\n",
       "      <td>Brown</td>\n",
       "      <td>B. Brown</td>\n",
       "      <td>Drummond</td>\n",
       "      <td>203083.0</td>\n",
       "      <td>Jackson</td>\n",
       "      <td>1630543.0</td>\n",
       "      <td>NaN</td>\n",
       "      <td>NaN</td>\n",
       "      <td>NaN</td>\n",
       "      <td>NaN</td>\n",
       "      <td>NaN</td>\n",
       "      <td>NaN</td>\n",
       "      <td>NaN</td>\n",
       "      <td>NaN</td>\n",
       "      <td>NaN</td>\n",
       "      <td>NaN</td>\n",
       "      <td>NaN</td>\n",
       "      <td>NaN</td>\n",
       "      <td>NaN</td>\n",
       "      <td>NaN</td>\n",
       "      <td>NaN</td>\n",
       "      <td>NaN</td>\n",
       "      <td>NaN</td>\n",
       "      <td>NaN</td>\n",
       "      <td>NaN</td>\n",
       "      <td>NaN</td>\n",
       "      <td>NaN</td>\n",
       "      <td>0022101216</td>\n",
       "    </tr>\n",
       "    <tr>\n",
       "      <th>2</th>\n",
       "      <td>7</td>\n",
       "      <td>PT11M38.00S</td>\n",
       "      <td>2022-04-10T19:45:47.5Z</td>\n",
       "      <td>1</td>\n",
       "      <td>REGULAR</td>\n",
       "      <td>2pt</td>\n",
       "      <td>DUNK</td>\n",
       "      <td>[pointsinthepaint]</td>\n",
       "      <td>203083</td>\n",
       "      <td>94.037451</td>\n",
       "      <td>49.754902</td>\n",
       "      <td>1610612751</td>\n",
       "      <td>2</td>\n",
       "      <td>0</td>\n",
       "      <td>2022-04-10T19:45:51Z</td>\n",
       "      <td>70000</td>\n",
       "      <td>-1.0</td>\n",
       "      <td>4.0</td>\n",
       "      <td>1</td>\n",
       "      <td>right</td>\n",
       "      <td>A. Drummond cutting DUNK (2 PTS) (K. Durant 1 ...</td>\n",
       "      <td>[203083, 201142]</td>\n",
       "      <td>1.610613e+09</td>\n",
       "      <td>BKN</td>\n",
       "      <td>cutting</td>\n",
       "      <td>NaN</td>\n",
       "      <td>NaN</td>\n",
       "      <td>Drummond</td>\n",
       "      <td>A. Drummond</td>\n",
       "      <td>NaN</td>\n",
       "      <td>NaN</td>\n",
       "      <td>NaN</td>\n",
       "      <td>NaN</td>\n",
       "      <td>0.37</td>\n",
       "      <td>Made</td>\n",
       "      <td>2.0</td>\n",
       "      <td>K. Durant</td>\n",
       "      <td>201142.0</td>\n",
       "      <td>1.0</td>\n",
       "      <td>NaN</td>\n",
       "      <td>NaN</td>\n",
       "      <td>NaN</td>\n",
       "      <td>NaN</td>\n",
       "      <td>NaN</td>\n",
       "      <td>NaN</td>\n",
       "      <td>NaN</td>\n",
       "      <td>NaN</td>\n",
       "      <td>NaN</td>\n",
       "      <td>NaN</td>\n",
       "      <td>NaN</td>\n",
       "      <td>NaN</td>\n",
       "      <td>NaN</td>\n",
       "      <td>NaN</td>\n",
       "      <td>NaN</td>\n",
       "      <td>0022101216</td>\n",
       "    </tr>\n",
       "    <tr>\n",
       "      <th>3</th>\n",
       "      <td>9</td>\n",
       "      <td>PT11M14.00S</td>\n",
       "      <td>2022-04-10T19:46:11.9Z</td>\n",
       "      <td>1</td>\n",
       "      <td>REGULAR</td>\n",
       "      <td>2pt</td>\n",
       "      <td>Jump Shot</td>\n",
       "      <td>[pointsinthepaint]</td>\n",
       "      <td>204456</td>\n",
       "      <td>16.507884</td>\n",
       "      <td>65.686275</td>\n",
       "      <td>1610612754</td>\n",
       "      <td>2</td>\n",
       "      <td>0</td>\n",
       "      <td>2022-04-10T19:46:17Z</td>\n",
       "      <td>90000</td>\n",
       "      <td>-78.0</td>\n",
       "      <td>103.0</td>\n",
       "      <td>1</td>\n",
       "      <td>left</td>\n",
       "      <td>MISS T. McConnell 12' fadeaway Shot - blocked</td>\n",
       "      <td>[204456, 203083]</td>\n",
       "      <td>1.610613e+09</td>\n",
       "      <td>IND</td>\n",
       "      <td>fadeaway</td>\n",
       "      <td>NaN</td>\n",
       "      <td>NaN</td>\n",
       "      <td>McConnell</td>\n",
       "      <td>T. McConnell</td>\n",
       "      <td>NaN</td>\n",
       "      <td>NaN</td>\n",
       "      <td>NaN</td>\n",
       "      <td>NaN</td>\n",
       "      <td>12.92</td>\n",
       "      <td>Missed</td>\n",
       "      <td>NaN</td>\n",
       "      <td>NaN</td>\n",
       "      <td>NaN</td>\n",
       "      <td>NaN</td>\n",
       "      <td>Drummond</td>\n",
       "      <td>203083.0</td>\n",
       "      <td>NaN</td>\n",
       "      <td>NaN</td>\n",
       "      <td>NaN</td>\n",
       "      <td>NaN</td>\n",
       "      <td>NaN</td>\n",
       "      <td>NaN</td>\n",
       "      <td>NaN</td>\n",
       "      <td>NaN</td>\n",
       "      <td>NaN</td>\n",
       "      <td>NaN</td>\n",
       "      <td>NaN</td>\n",
       "      <td>NaN</td>\n",
       "      <td>NaN</td>\n",
       "      <td>0022101216</td>\n",
       "    </tr>\n",
       "    <tr>\n",
       "      <th>4</th>\n",
       "      <td>10</td>\n",
       "      <td>PT11M14.00S</td>\n",
       "      <td>2022-04-10T19:46:11.9Z</td>\n",
       "      <td>1</td>\n",
       "      <td>REGULAR</td>\n",
       "      <td>block</td>\n",
       "      <td>NaN</td>\n",
       "      <td>[]</td>\n",
       "      <td>203083</td>\n",
       "      <td>NaN</td>\n",
       "      <td>NaN</td>\n",
       "      <td>1610612754</td>\n",
       "      <td>2</td>\n",
       "      <td>0</td>\n",
       "      <td>2022-04-10T19:46:14Z</td>\n",
       "      <td>100000</td>\n",
       "      <td>NaN</td>\n",
       "      <td>NaN</td>\n",
       "      <td>0</td>\n",
       "      <td>None</td>\n",
       "      <td>A. Drummond BLOCK (1 BLK)</td>\n",
       "      <td>[203083]</td>\n",
       "      <td>1.610613e+09</td>\n",
       "      <td>BKN</td>\n",
       "      <td>NaN</td>\n",
       "      <td>NaN</td>\n",
       "      <td>NaN</td>\n",
       "      <td>Drummond</td>\n",
       "      <td>A. Drummond</td>\n",
       "      <td>NaN</td>\n",
       "      <td>NaN</td>\n",
       "      <td>NaN</td>\n",
       "      <td>NaN</td>\n",
       "      <td>NaN</td>\n",
       "      <td>NaN</td>\n",
       "      <td>NaN</td>\n",
       "      <td>NaN</td>\n",
       "      <td>NaN</td>\n",
       "      <td>NaN</td>\n",
       "      <td>NaN</td>\n",
       "      <td>NaN</td>\n",
       "      <td>NaN</td>\n",
       "      <td>NaN</td>\n",
       "      <td>NaN</td>\n",
       "      <td>NaN</td>\n",
       "      <td>NaN</td>\n",
       "      <td>NaN</td>\n",
       "      <td>NaN</td>\n",
       "      <td>NaN</td>\n",
       "      <td>NaN</td>\n",
       "      <td>NaN</td>\n",
       "      <td>NaN</td>\n",
       "      <td>NaN</td>\n",
       "      <td>NaN</td>\n",
       "      <td>0022101216</td>\n",
       "    </tr>\n",
       "  </tbody>\n",
       "</table>\n",
       "</div>"
      ],
      "text/plain": [
       "   actionNumber        clock              timeActual  period periodType actionType    subType          qualifiers  personId          x          y  possession scoreHome scoreAway                edited  orderNumber  xLegacy  yLegacy  isFieldGoal   side                                        description             personIdsFilter        teamId teamTricode   descriptor jumpBallRecoveredName  jumpBallRecoverdPersonId playerName   playerNameI jumpBallWonPlayerName  jumpBallWonPersonId jumpBallLostPlayerName  jumpBallLostPersonId  shotDistance shotResult  pointsTotal assistPlayerNameInitial  assistPersonId  assistTotal blockPlayerName  blockPersonId  shotActionNumber  reboundTotal  reboundDefensiveTotal  reboundOffensiveTotal  turnoverTotal stealPlayerName  stealPersonId  officialId  foulPersonalTotal  foulTechnicalTotal foulDrawnPlayerName  foulDrawnPersonId value      gameid\n",
       "0             2  PT12M00.00S  2022-04-10T19:45:26.5Z       1    REGULAR     period      start                  []         0        NaN        NaN           0         0         0  2022-04-10T19:45:26Z        20000      NaN      NaN            0   None                                       Period Start                          []           NaN         NaN          NaN                   NaN                       NaN        NaN           NaN                   NaN                  NaN                    NaN                   NaN           NaN        NaN          NaN                     NaN             NaN          NaN             NaN            NaN               NaN           NaN                    NaN                    NaN            NaN             NaN            NaN         NaN                NaN                 NaN                 NaN                NaN   NaN  0022101216\n",
       "1             4  PT11M55.00S  2022-04-10T19:45:29.9Z       1    REGULAR   jumpball  recovered                  []   1628971        NaN        NaN  1610612751         0         0  2022-04-10T19:45:29Z        40000      NaN      NaN            0   None  Jump Ball A. Drummond vs. I. Jackson: Tip to B...  [1628971, 203083, 1630543]  1.610613e+09         BKN  startperiod              B. Brown                 1628971.0      Brown      B. Brown              Drummond             203083.0                Jackson             1630543.0           NaN        NaN          NaN                     NaN             NaN          NaN             NaN            NaN               NaN           NaN                    NaN                    NaN            NaN             NaN            NaN         NaN                NaN                 NaN                 NaN                NaN   NaN  0022101216\n",
       "2             7  PT11M38.00S  2022-04-10T19:45:47.5Z       1    REGULAR        2pt       DUNK  [pointsinthepaint]    203083  94.037451  49.754902  1610612751         2         0  2022-04-10T19:45:51Z        70000     -1.0      4.0            1  right  A. Drummond cutting DUNK (2 PTS) (K. Durant 1 ...            [203083, 201142]  1.610613e+09         BKN      cutting                   NaN                       NaN   Drummond   A. Drummond                   NaN                  NaN                    NaN                   NaN          0.37       Made          2.0               K. Durant        201142.0          1.0             NaN            NaN               NaN           NaN                    NaN                    NaN            NaN             NaN            NaN         NaN                NaN                 NaN                 NaN                NaN   NaN  0022101216\n",
       "3             9  PT11M14.00S  2022-04-10T19:46:11.9Z       1    REGULAR        2pt  Jump Shot  [pointsinthepaint]    204456  16.507884  65.686275  1610612754         2         0  2022-04-10T19:46:17Z        90000    -78.0    103.0            1   left      MISS T. McConnell 12' fadeaway Shot - blocked            [204456, 203083]  1.610613e+09         IND     fadeaway                   NaN                       NaN  McConnell  T. McConnell                   NaN                  NaN                    NaN                   NaN         12.92     Missed          NaN                     NaN             NaN          NaN        Drummond       203083.0               NaN           NaN                    NaN                    NaN            NaN             NaN            NaN         NaN                NaN                 NaN                 NaN                NaN   NaN  0022101216\n",
       "4            10  PT11M14.00S  2022-04-10T19:46:11.9Z       1    REGULAR      block        NaN                  []    203083        NaN        NaN  1610612754         2         0  2022-04-10T19:46:14Z       100000      NaN      NaN            0   None                          A. Drummond BLOCK (1 BLK)                    [203083]  1.610613e+09         BKN          NaN                   NaN                       NaN   Drummond   A. Drummond                   NaN                  NaN                    NaN                   NaN           NaN        NaN          NaN                     NaN             NaN          NaN             NaN            NaN               NaN           NaN                    NaN                    NaN            NaN             NaN            NaN         NaN                NaN                 NaN                 NaN                NaN   NaN  0022101216"
      ]
     },
     "execution_count": 10,
     "metadata": {},
     "output_type": "execute_result"
    }
   ],
   "source": [
    "final_df_copy.head()"
   ]
  },
  {
   "cell_type": "code",
   "execution_count": 50,
   "id": "31826e18",
   "metadata": {},
   "outputs": [
    {
     "data": {
      "text/html": [
       "<div>\n",
       "<style scoped>\n",
       "    .dataframe tbody tr th:only-of-type {\n",
       "        vertical-align: middle;\n",
       "    }\n",
       "\n",
       "    .dataframe tbody tr th {\n",
       "        vertical-align: top;\n",
       "    }\n",
       "\n",
       "    .dataframe thead th {\n",
       "        text-align: right;\n",
       "    }\n",
       "</style>\n",
       "<table border=\"1\" class=\"dataframe\">\n",
       "  <thead>\n",
       "    <tr style=\"text-align: right;\">\n",
       "      <th></th>\n",
       "      <th>actionNumber</th>\n",
       "      <th>period</th>\n",
       "      <th>personId</th>\n",
       "      <th>x</th>\n",
       "      <th>y</th>\n",
       "      <th>possession</th>\n",
       "      <th>orderNumber</th>\n",
       "      <th>xLegacy</th>\n",
       "      <th>yLegacy</th>\n",
       "      <th>isFieldGoal</th>\n",
       "      <th>teamId</th>\n",
       "      <th>jumpBallRecoverdPersonId</th>\n",
       "      <th>jumpBallWonPersonId</th>\n",
       "      <th>jumpBallLostPersonId</th>\n",
       "      <th>shotDistance</th>\n",
       "      <th>pointsTotal</th>\n",
       "      <th>assistPersonId</th>\n",
       "      <th>assistTotal</th>\n",
       "      <th>blockPersonId</th>\n",
       "      <th>shotActionNumber</th>\n",
       "      <th>reboundTotal</th>\n",
       "      <th>reboundDefensiveTotal</th>\n",
       "      <th>reboundOffensiveTotal</th>\n",
       "      <th>turnoverTotal</th>\n",
       "      <th>stealPersonId</th>\n",
       "      <th>officialId</th>\n",
       "      <th>foulPersonalTotal</th>\n",
       "      <th>foulTechnicalTotal</th>\n",
       "      <th>foulDrawnPersonId</th>\n",
       "      <th>period_to_time</th>\n",
       "      <th>time_passed_in_seconds</th>\n",
       "    </tr>\n",
       "  </thead>\n",
       "  <tbody>\n",
       "    <tr>\n",
       "      <th>count</th>\n",
       "      <td>691875.00</td>\n",
       "      <td>691875.00</td>\n",
       "      <td>691875.00</td>\n",
       "      <td>216713.00</td>\n",
       "      <td>216713.00</td>\n",
       "      <td>6.918750e+05</td>\n",
       "      <td>691875.00</td>\n",
       "      <td>216713.00</td>\n",
       "      <td>216713.00</td>\n",
       "      <td>691875.00</td>\n",
       "      <td>6.650260e+05</td>\n",
       "      <td>2087.00</td>\n",
       "      <td>2183.00</td>\n",
       "      <td>2183.00</td>\n",
       "      <td>216713.00</td>\n",
       "      <td>141587.00</td>\n",
       "      <td>60636.00</td>\n",
       "      <td>60636.00</td>\n",
       "      <td>11603.00</td>\n",
       "      <td>128907.00</td>\n",
       "      <td>109347.00</td>\n",
       "      <td>109347.00</td>\n",
       "      <td>109347.00</td>\n",
       "      <td>32102.00</td>\n",
       "      <td>18760.00</td>\n",
       "      <td>68328.00</td>\n",
       "      <td>49746.00</td>\n",
       "      <td>49746.00</td>\n",
       "      <td>48306.00</td>\n",
       "      <td>691875.00</td>\n",
       "      <td>691875</td>\n",
       "    </tr>\n",
       "    <tr>\n",
       "      <th>mean</th>\n",
       "      <td>338.34</td>\n",
       "      <td>2.55</td>\n",
       "      <td>1031515.59</td>\n",
       "      <td>49.97</td>\n",
       "      <td>49.58</td>\n",
       "      <td>1.604646e+09</td>\n",
       "      <td>3322917.73</td>\n",
       "      <td>-2.72</td>\n",
       "      <td>96.81</td>\n",
       "      <td>0.31</td>\n",
       "      <td>1.610613e+09</td>\n",
       "      <td>1116123.03</td>\n",
       "      <td>1029717.53</td>\n",
       "      <td>1110913.39</td>\n",
       "      <td>14.28</td>\n",
       "      <td>9.90</td>\n",
       "      <td>1092272.09</td>\n",
       "      <td>3.09</td>\n",
       "      <td>1144186.13</td>\n",
       "      <td>329.76</td>\n",
       "      <td>4.02</td>\n",
       "      <td>3.07</td>\n",
       "      <td>0.95</td>\n",
       "      <td>1.91</td>\n",
       "      <td>1155470.45</td>\n",
       "      <td>451530.93</td>\n",
       "      <td>2.00</td>\n",
       "      <td>0.06</td>\n",
       "      <td>1095784.55</td>\n",
       "      <td>18.49</td>\n",
       "      <td>0 days 00:06:16.793656368</td>\n",
       "    </tr>\n",
       "    <tr>\n",
       "      <th>std</th>\n",
       "      <td>194.28</td>\n",
       "      <td>1.13</td>\n",
       "      <td>727511.82</td>\n",
       "      <td>35.59</td>\n",
       "      <td>22.92</td>\n",
       "      <td>9.784667e+07</td>\n",
       "      <td>1906753.10</td>\n",
       "      <td>114.60</td>\n",
       "      <td>95.29</td>\n",
       "      <td>0.46</td>\n",
       "      <td>8.640000e+00</td>\n",
       "      <td>689615.63</td>\n",
       "      <td>707571.33</td>\n",
       "      <td>688754.28</td>\n",
       "      <td>10.58</td>\n",
       "      <td>7.44</td>\n",
       "      <td>694767.96</td>\n",
       "      <td>2.41</td>\n",
       "      <td>679452.74</td>\n",
       "      <td>196.02</td>\n",
       "      <td>3.07</td>\n",
       "      <td>2.46</td>\n",
       "      <td>1.27</td>\n",
       "      <td>1.21</td>\n",
       "      <td>675106.34</td>\n",
       "      <td>642715.93</td>\n",
       "      <td>1.13</td>\n",
       "      <td>0.25</td>\n",
       "      <td>693557.15</td>\n",
       "      <td>13.38</td>\n",
       "      <td>0 days 00:03:32.717338484</td>\n",
       "    </tr>\n",
       "    <tr>\n",
       "      <th>min</th>\n",
       "      <td>2.00</td>\n",
       "      <td>1.00</td>\n",
       "      <td>0.00</td>\n",
       "      <td>0.21</td>\n",
       "      <td>0.00</td>\n",
       "      <td>0.000000e+00</td>\n",
       "      <td>20000.00</td>\n",
       "      <td>-250.00</td>\n",
       "      <td>-51.00</td>\n",
       "      <td>0.00</td>\n",
       "      <td>1.610613e+09</td>\n",
       "      <td>2544.00</td>\n",
       "      <td>2544.00</td>\n",
       "      <td>2544.00</td>\n",
       "      <td>0.00</td>\n",
       "      <td>1.00</td>\n",
       "      <td>2544.00</td>\n",
       "      <td>1.00</td>\n",
       "      <td>2544.00</td>\n",
       "      <td>3.00</td>\n",
       "      <td>1.00</td>\n",
       "      <td>0.00</td>\n",
       "      <td>0.00</td>\n",
       "      <td>1.00</td>\n",
       "      <td>2544.00</td>\n",
       "      <td>1146.00</td>\n",
       "      <td>0.00</td>\n",
       "      <td>0.00</td>\n",
       "      <td>2544.00</td>\n",
       "      <td>0.00</td>\n",
       "      <td>0 days 00:00:00</td>\n",
       "    </tr>\n",
       "    <tr>\n",
       "      <th>25%</th>\n",
       "      <td>170.00</td>\n",
       "      <td>2.00</td>\n",
       "      <td>203076.00</td>\n",
       "      <td>11.56</td>\n",
       "      <td>39.46</td>\n",
       "      <td>1.610613e+09</td>\n",
       "      <td>1680000.00</td>\n",
       "      <td>-53.00</td>\n",
       "      <td>14.00</td>\n",
       "      <td>0.00</td>\n",
       "      <td>1.610613e+09</td>\n",
       "      <td>203200.00</td>\n",
       "      <td>203500.00</td>\n",
       "      <td>203516.50</td>\n",
       "      <td>3.14</td>\n",
       "      <td>4.00</td>\n",
       "      <td>203463.00</td>\n",
       "      <td>1.00</td>\n",
       "      <td>203497.00</td>\n",
       "      <td>160.00</td>\n",
       "      <td>2.00</td>\n",
       "      <td>1.00</td>\n",
       "      <td>0.00</td>\n",
       "      <td>1.00</td>\n",
       "      <td>203501.00</td>\n",
       "      <td>2005.00</td>\n",
       "      <td>1.00</td>\n",
       "      <td>0.00</td>\n",
       "      <td>203496.00</td>\n",
       "      <td>12.00</td>\n",
       "      <td>0 days 00:03:21</td>\n",
       "    </tr>\n",
       "    <tr>\n",
       "      <th>50%</th>\n",
       "      <td>336.00</td>\n",
       "      <td>3.00</td>\n",
       "      <td>1627759.00</td>\n",
       "      <td>57.51</td>\n",
       "      <td>50.00</td>\n",
       "      <td>1.610613e+09</td>\n",
       "      <td>3300000.00</td>\n",
       "      <td>0.00</td>\n",
       "      <td>57.00</td>\n",
       "      <td>0.00</td>\n",
       "      <td>1.610613e+09</td>\n",
       "      <td>1628366.00</td>\n",
       "      <td>1626174.00</td>\n",
       "      <td>1627745.00</td>\n",
       "      <td>13.94</td>\n",
       "      <td>8.00</td>\n",
       "      <td>1627826.00</td>\n",
       "      <td>2.00</td>\n",
       "      <td>1628381.00</td>\n",
       "      <td>329.00</td>\n",
       "      <td>3.00</td>\n",
       "      <td>2.00</td>\n",
       "      <td>1.00</td>\n",
       "      <td>1.00</td>\n",
       "      <td>1628374.00</td>\n",
       "      <td>201640.00</td>\n",
       "      <td>2.00</td>\n",
       "      <td>0.00</td>\n",
       "      <td>1627814.00</td>\n",
       "      <td>24.00</td>\n",
       "      <td>0 days 00:06:23</td>\n",
       "    </tr>\n",
       "    <tr>\n",
       "      <th>75%</th>\n",
       "      <td>503.00</td>\n",
       "      <td>4.00</td>\n",
       "      <td>1629632.00</td>\n",
       "      <td>88.35</td>\n",
       "      <td>59.07</td>\n",
       "      <td>1.610613e+09</td>\n",
       "      <td>4940000.00</td>\n",
       "      <td>47.00</td>\n",
       "      <td>184.00</td>\n",
       "      <td>1.00</td>\n",
       "      <td>1.610613e+09</td>\n",
       "      <td>1629632.00</td>\n",
       "      <td>1629011.00</td>\n",
       "      <td>1629603.00</td>\n",
       "      <td>25.08</td>\n",
       "      <td>14.00</td>\n",
       "      <td>1629636.00</td>\n",
       "      <td>4.00</td>\n",
       "      <td>1629647.00</td>\n",
       "      <td>496.00</td>\n",
       "      <td>5.00</td>\n",
       "      <td>4.00</td>\n",
       "      <td>1.00</td>\n",
       "      <td>2.00</td>\n",
       "      <td>1629655.00</td>\n",
       "      <td>204058.00</td>\n",
       "      <td>3.00</td>\n",
       "      <td>0.00</td>\n",
       "      <td>1629630.00</td>\n",
       "      <td>36.00</td>\n",
       "      <td>0 days 00:09:18</td>\n",
       "    </tr>\n",
       "    <tr>\n",
       "      <th>max</th>\n",
       "      <td>893.00</td>\n",
       "      <td>7.00</td>\n",
       "      <td>1630994.00</td>\n",
       "      <td>99.82</td>\n",
       "      <td>99.75</td>\n",
       "      <td>1.610613e+09</td>\n",
       "      <td>8750000.00</td>\n",
       "      <td>250.00</td>\n",
       "      <td>878.00</td>\n",
       "      <td>1.00</td>\n",
       "      <td>1.610613e+09</td>\n",
       "      <td>1630787.00</td>\n",
       "      <td>1630846.00</td>\n",
       "      <td>1630846.00</td>\n",
       "      <td>88.94</td>\n",
       "      <td>60.00</td>\n",
       "      <td>1630994.00</td>\n",
       "      <td>19.00</td>\n",
       "      <td>1630846.00</td>\n",
       "      <td>890.00</td>\n",
       "      <td>25.00</td>\n",
       "      <td>21.00</td>\n",
       "      <td>12.00</td>\n",
       "      <td>10.00</td>\n",
       "      <td>1630994.00</td>\n",
       "      <td>1629422.00</td>\n",
       "      <td>6.00</td>\n",
       "      <td>3.00</td>\n",
       "      <td>1630994.00</td>\n",
       "      <td>36.00</td>\n",
       "      <td>0 days 00:12:00</td>\n",
       "    </tr>\n",
       "  </tbody>\n",
       "</table>\n",
       "</div>"
      ],
      "text/plain": [
       "       actionNumber     period    personId          x          y    possession  orderNumber    xLegacy    yLegacy  isFieldGoal        teamId  jumpBallRecoverdPersonId  jumpBallWonPersonId  jumpBallLostPersonId  shotDistance  pointsTotal  assistPersonId  assistTotal  blockPersonId  shotActionNumber  reboundTotal  reboundDefensiveTotal  reboundOffensiveTotal  turnoverTotal  stealPersonId  officialId  foulPersonalTotal  foulTechnicalTotal  foulDrawnPersonId  period_to_time     time_passed_in_seconds\n",
       "count     691875.00  691875.00   691875.00  216713.00  216713.00  6.918750e+05    691875.00  216713.00  216713.00    691875.00  6.650260e+05                   2087.00              2183.00               2183.00     216713.00    141587.00        60636.00     60636.00       11603.00         128907.00     109347.00              109347.00              109347.00       32102.00       18760.00    68328.00           49746.00            49746.00           48306.00       691875.00                     691875\n",
       "mean         338.34       2.55  1031515.59      49.97      49.58  1.604646e+09   3322917.73      -2.72      96.81         0.31  1.610613e+09                1116123.03           1029717.53            1110913.39         14.28         9.90      1092272.09         3.09     1144186.13            329.76          4.02                   3.07                   0.95           1.91     1155470.45   451530.93               2.00                0.06         1095784.55           18.49  0 days 00:06:16.793656368\n",
       "std          194.28       1.13   727511.82      35.59      22.92  9.784667e+07   1906753.10     114.60      95.29         0.46  8.640000e+00                 689615.63            707571.33             688754.28         10.58         7.44       694767.96         2.41      679452.74            196.02          3.07                   2.46                   1.27           1.21      675106.34   642715.93               1.13                0.25          693557.15           13.38  0 days 00:03:32.717338484\n",
       "min            2.00       1.00        0.00       0.21       0.00  0.000000e+00     20000.00    -250.00     -51.00         0.00  1.610613e+09                   2544.00              2544.00               2544.00          0.00         1.00         2544.00         1.00        2544.00              3.00          1.00                   0.00                   0.00           1.00        2544.00     1146.00               0.00                0.00            2544.00            0.00            0 days 00:00:00\n",
       "25%          170.00       2.00   203076.00      11.56      39.46  1.610613e+09   1680000.00     -53.00      14.00         0.00  1.610613e+09                 203200.00            203500.00             203516.50          3.14         4.00       203463.00         1.00      203497.00            160.00          2.00                   1.00                   0.00           1.00      203501.00     2005.00               1.00                0.00          203496.00           12.00            0 days 00:03:21\n",
       "50%          336.00       3.00  1627759.00      57.51      50.00  1.610613e+09   3300000.00       0.00      57.00         0.00  1.610613e+09                1628366.00           1626174.00            1627745.00         13.94         8.00      1627826.00         2.00     1628381.00            329.00          3.00                   2.00                   1.00           1.00     1628374.00   201640.00               2.00                0.00         1627814.00           24.00            0 days 00:06:23\n",
       "75%          503.00       4.00  1629632.00      88.35      59.07  1.610613e+09   4940000.00      47.00     184.00         1.00  1.610613e+09                1629632.00           1629011.00            1629603.00         25.08        14.00      1629636.00         4.00     1629647.00            496.00          5.00                   4.00                   1.00           2.00     1629655.00   204058.00               3.00                0.00         1629630.00           36.00            0 days 00:09:18\n",
       "max          893.00       7.00  1630994.00      99.82      99.75  1.610613e+09   8750000.00     250.00     878.00         1.00  1.610613e+09                1630787.00           1630846.00            1630846.00         88.94        60.00      1630994.00        19.00     1630846.00            890.00         25.00                  21.00                  12.00          10.00     1630994.00  1629422.00               6.00                3.00         1630994.00           36.00            0 days 00:12:00"
      ]
     },
     "execution_count": 50,
     "metadata": {},
     "output_type": "execute_result"
    }
   ],
   "source": [
    "round(final_df_copy.describe(),2)"
   ]
  },
  {
   "cell_type": "markdown",
   "id": "2f62dfa4",
   "metadata": {},
   "source": [
    "# _Data Manipulation and Formating_"
   ]
  },
  {
   "cell_type": "markdown",
   "id": "ee064fc5",
   "metadata": {},
   "source": [
    "### Checking data types"
   ]
  },
  {
   "cell_type": "code",
   "execution_count": 12,
   "id": "0d3d2245",
   "metadata": {},
   "outputs": [
    {
     "data": {
      "text/plain": [
       "{'actionNumber': dtype('int64'),\n",
       " 'clock': dtype('O'),\n",
       " 'timeActual': dtype('O'),\n",
       " 'period': dtype('int64'),\n",
       " 'periodType': dtype('O'),\n",
       " 'actionType': dtype('O'),\n",
       " 'subType': dtype('O'),\n",
       " 'qualifiers': dtype('O'),\n",
       " 'personId': dtype('int64'),\n",
       " 'x': dtype('float64'),\n",
       " 'y': dtype('float64'),\n",
       " 'possession': dtype('int64'),\n",
       " 'scoreHome': dtype('O'),\n",
       " 'scoreAway': dtype('O'),\n",
       " 'edited': dtype('O'),\n",
       " 'orderNumber': dtype('int64'),\n",
       " 'xLegacy': dtype('float64'),\n",
       " 'yLegacy': dtype('float64'),\n",
       " 'isFieldGoal': dtype('int64'),\n",
       " 'side': dtype('O'),\n",
       " 'description': dtype('O'),\n",
       " 'personIdsFilter': dtype('O'),\n",
       " 'teamId': dtype('float64'),\n",
       " 'teamTricode': dtype('O'),\n",
       " 'descriptor': dtype('O'),\n",
       " 'jumpBallRecoveredName': dtype('O'),\n",
       " 'jumpBallRecoverdPersonId': dtype('float64'),\n",
       " 'playerName': dtype('O'),\n",
       " 'playerNameI': dtype('O'),\n",
       " 'jumpBallWonPlayerName': dtype('O'),\n",
       " 'jumpBallWonPersonId': dtype('float64'),\n",
       " 'jumpBallLostPlayerName': dtype('O'),\n",
       " 'jumpBallLostPersonId': dtype('float64'),\n",
       " 'shotDistance': dtype('float64'),\n",
       " 'shotResult': dtype('O'),\n",
       " 'pointsTotal': dtype('float64'),\n",
       " 'assistPlayerNameInitial': dtype('O'),\n",
       " 'assistPersonId': dtype('float64'),\n",
       " 'assistTotal': dtype('float64'),\n",
       " 'blockPlayerName': dtype('O'),\n",
       " 'blockPersonId': dtype('float64'),\n",
       " 'shotActionNumber': dtype('float64'),\n",
       " 'reboundTotal': dtype('float64'),\n",
       " 'reboundDefensiveTotal': dtype('float64'),\n",
       " 'reboundOffensiveTotal': dtype('float64'),\n",
       " 'turnoverTotal': dtype('float64'),\n",
       " 'stealPlayerName': dtype('O'),\n",
       " 'stealPersonId': dtype('float64'),\n",
       " 'officialId': dtype('float64'),\n",
       " 'foulPersonalTotal': dtype('float64'),\n",
       " 'foulTechnicalTotal': dtype('float64'),\n",
       " 'foulDrawnPlayerName': dtype('O'),\n",
       " 'foulDrawnPersonId': dtype('float64'),\n",
       " 'value': dtype('O'),\n",
       " 'gameid': dtype('O')}"
      ]
     },
     "execution_count": 12,
     "metadata": {},
     "output_type": "execute_result"
    }
   ],
   "source": [
    "### Transforming data types\n",
    "dict(final_df_copy.dtypes)"
   ]
  },
  {
   "cell_type": "markdown",
   "id": "a4570235",
   "metadata": {},
   "source": [
    "## Time Conversion Functions\n",
    "#### \"Time Passed in Game\" = the total time passed within a game (Format: Min:Sec)\n",
    "#### \"Date of Game\" = The minimum date that a game started on (if a game starts on 04/05/22 and goes into 04/06/23 the game started on 04/05/23)"
   ]
  },
  {
   "cell_type": "code",
   "execution_count": 13,
   "id": "6bf6f2fb",
   "metadata": {},
   "outputs": [],
   "source": [
    "# creating a date column\n",
    "final_df_copy['dateGameStarted'] = pd.to_datetime(final_df_copy.timeActual).dt.date\n",
    "\n",
    "def period_to_time_conversion(value) -> int:\n",
    "    \"\"\"Takes in a number value of 1/2/3/4 and returns the total time passed in minutes for that given input\"\"\"\n",
    "    if value == 1:\n",
    "        return 0\n",
    "    elif value == 2:\n",
    "        return 12\n",
    "    elif value == 3:\n",
    "        return 24\n",
    "    else:\n",
    "        return 36\n",
    "\n",
    "# Formating clock column to total time passed in game\n",
    "def time_conversion(unparsed_timearray):\n",
    "    \"\"\" Takes in an array of datetime values representing of time to go in a given period and returns time passed in the period \"\"\"\n",
    "    x = datetime(year =1900, month=1, day=1, hour=0, minute=12, second=0)\n",
    "    values_array = unparsed_timearray[0:7]\n",
    "    time_passed_total = x - pd.to_datetime(values_array, format='PT%MM%S')\n",
    "    return time_passed_total\n",
    "\n",
    "\n",
    "# Creating a function to create new column with total time passed in game\n",
    "def total_time_passed(period_finished_minutes, minutes_passed_within_period):\n",
    "    \"\"\"Takes in total_time_passed_in_period and period_to_time and returns the combined values to get the total time passed in game\"\"\"\n",
    "    period_minutes = pd.to_datetime(period_finished_minutes, format='%M')\n",
    "    minutes_within_period = minutes_passed_within_period\n",
    "    return period_minutes + minutes_within_period"
   ]
  },
  {
   "cell_type": "markdown",
   "id": "8516de7d",
   "metadata": {},
   "source": [
    "### Calling Time Conversion Functions"
   ]
  },
  {
   "cell_type": "code",
   "execution_count": 14,
   "id": "119be8cd",
   "metadata": {},
   "outputs": [],
   "source": [
    "final_df_copy['period_to_time'] = final_df_copy['period'].map(period_to_time_conversion)\n",
    "final_df_copy['time_passed_in_seconds'] = final_df_copy['clock'].map(time_conversion)\n",
    "final_df_copy['Total_time_passed_in_game'] = list(map(total_time_passed, final_df_copy.period_to_time, final_df_copy.time_passed_in_seconds))"
   ]
  },
  {
   "cell_type": "markdown",
   "id": "309d1865",
   "metadata": {},
   "source": [
    "### Creating a new data fame with players removed if they do not pass conditions:\n",
    "-  play atleast 20 games AND have more than 10 combined PTS/REB/AST avg per game"
   ]
  },
  {
   "cell_type": "code",
   "execution_count": 15,
   "id": "2ed06b79",
   "metadata": {},
   "outputs": [],
   "source": [
    "### Getting games played per player\n",
    "player_games_played: pd.DataFrame = final_df_copy[['gameid','playerNameI', 'personId']].groupby(['personId', 'playerNameI'], as_index=False).nunique().sort_values('gameid', ascending=False)\n",
    "\n",
    "### Filtering DF to only include 20+ games\n",
    "players_with_20more_games = player_games_played[player_games_played.gameid >= 20].personId\n",
    "\n",
    "### Getting AVG PTS+REB+AST per game per player\n",
    "player_stats_threshold: pd.DataFrame = final_df_copy[['gameid','playerNameI', 'personId', 'pointsTotal', 'assistTotal', 'reboundTotal']].groupby(['personId', 'playerNameI', 'gameid'], as_index=False).max().sort_values('gameid', ascending=False)\n",
    "player_stats_threshold['combined_totals'] = player_stats_threshold.iloc[:, 3:].sum(axis=1)\n",
    "player_stats_threshold_avgs = player_stats_threshold.groupby(['personId', 'playerNameI'], as_index=False)['combined_totals'].mean()\n",
    "\n",
    "### Getting DF with players who have combinedtstats >= 10\n",
    "player_stats_threshold_id_list = player_stats_threshold_avgs[player_stats_threshold_avgs.combined_totals >= 10]\n",
    "\n",
    "### Creating player_Id dataframe joining `player_stats_threshold_id_list` and `players_with_20more_games` to get the common players between these 2\n",
    "joined_player_id_list = pd.merge(player_stats_threshold_id_list, players_with_20more_games, how='inner', on=['personId']).personId"
   ]
  },
  {
   "cell_type": "markdown",
   "id": "826b7a7b",
   "metadata": {},
   "source": [
    "### Creating New DF with only players 20 games+ and 10 total points/rbs/assists avg per game"
   ]
  },
  {
   "cell_type": "code",
   "execution_count": 16,
   "id": "274b407f",
   "metadata": {},
   "outputs": [],
   "source": [
    "df_players_removed: pd.DataFrame = final_df_copy.query('personId in @joined_player_id_list')"
   ]
  },
  {
   "cell_type": "markdown",
   "id": "5d73d5d4",
   "metadata": {},
   "source": [
    "### Preping a mapping dict for player names and Player Ids"
   ]
  },
  {
   "cell_type": "code",
   "execution_count": 17,
   "id": "85c140d2",
   "metadata": {},
   "outputs": [
    {
     "name": "stderr",
     "output_type": "stream",
     "text": [
      "/var/folders/_l/4wqjn4456n15dy3l1xmxt0nh0000gn/T/ipykernel_14478/4111727379.py:2: SettingWithCopyWarning: \n",
      "A value is trying to be set on a copy of a slice from a DataFrame.\n",
      "Try using .loc[row_indexer,col_indexer] = value instead\n",
      "\n",
      "See the caveats in the documentation: https://pandas.pydata.org/pandas-docs/stable/user_guide/indexing.html#returning-a-view-versus-a-copy\n",
      "  df_players_removed.assistPersonId = final_df_copy.assistPersonId.astype('Int64')\n"
     ]
    }
   ],
   "source": [
    "#Changing column to int data type\n",
    "df_players_removed.assistPersonId = final_df_copy.assistPersonId.astype('Int64')\n",
    "\n",
    "# Creating a dict for mapping object of names and ids\n",
    "playerid_and_player_initials_dict_assists =dict(zip(df_players_removed.assistPlayerNameInitial.values, df_players_removed.assistPersonId))\n",
    "playerid_and_player_initials_dict_playername_to_personid =dict(zip(df_players_removed.playerNameI.values, df_players_removed.personId))\n",
    "playerid_and_player_initials_dict_combined = playerid_and_player_initials_dict_assists | playerid_and_player_initials_dict_playername_to_personid"
   ]
  },
  {
   "cell_type": "markdown",
   "id": "d4a5f368",
   "metadata": {},
   "source": [
    "# Data Frame Fuctions\n",
    "## Creating TS% (true shooting percetage) data frame Per Game"
   ]
  },
  {
   "cell_type": "code",
   "execution_count": 18,
   "id": "0dece9c8",
   "metadata": {},
   "outputs": [],
   "source": [
    "def ts_perc_dataframe_creation(input_dataframe: pd.DataFrame)-> pd.DataFrame:        \n",
    "        \"\"\"Takes in a dataframe and transforms the data and returns a dataframe with information about player TS% per game\n",
    "\n",
    "        Additional information here\n",
    "        \"\"\"\n",
    "        \n",
    "        df_most_info: pd.DataFrame = input_dataframe\\\n",
    "                .groupby(['playerNameI','gameid', 'personId'], as_index=False)\\\n",
    "                .agg({'isFieldGoal':np.sum,\\\n",
    "                'dateGameStarted':np.min,\\\n",
    "                'pointsTotal': np.max,})\n",
    "\n",
    "        df_fta = input_dataframe[ ((input_dataframe.actionType == 'freethrow'))]\\\n",
    "                .groupby(['playerNameI','personId','gameid', 'actionType'], as_index=False)['actionType'].count()\n",
    "                # .agg({'actionType': 'sum'})\n",
    "\n",
    "        #Merging DFs on columns gameid and playernamei\n",
    "        combined_df_all_metrics: pd.DataFrame = pd.merge(df_most_info, df_fta, how='left', on=['personId','playerNameI','gameid'])\n",
    "\n",
    "        # Renaming Column Names\n",
    "        combined_df_all_metrics = combined_df_all_metrics.rename(columns={'isFieldGoal':'FGA', 'actionType':'FTA'})\n",
    "\n",
    "        # Moving columns to a better order\n",
    "        cols: list[str] = ['dateGameStarted', 'gameid', 'playerNameI', 'pointsTotal', 'FGA', 'FTA']\n",
    "        combined_df_all_metrics = combined_df_all_metrics[cols]\n",
    "\n",
    "        # Replacing Nans in the DF with 0s\n",
    "        combined_df_all_metrics =combined_df_all_metrics.fillna(0)\n",
    "\n",
    "        # Creating TS% column\n",
    "        combined_df_all_metrics['TS%'] = round((combined_df_all_metrics['pointsTotal'])/\\\n",
    "                        (2*((combined_df_all_metrics['FGA'])+ (combined_df_all_metrics['FTA']*.44))) * 100,3)\n",
    "        \n",
    "        return combined_df_all_metrics"
   ]
  },
  {
   "cell_type": "markdown",
   "id": "87293713",
   "metadata": {},
   "source": [
    "### Calling TS% Per Game Function"
   ]
  },
  {
   "cell_type": "code",
   "execution_count": 19,
   "id": "9653ff39",
   "metadata": {},
   "outputs": [],
   "source": [
    "df_groupby = ts_perc_dataframe_creation(df_players_removed)"
   ]
  },
  {
   "cell_type": "code",
   "execution_count": 21,
   "id": "d588fb9f",
   "metadata": {},
   "outputs": [
    {
     "data": {
      "text/html": [
       "<div>\n",
       "<style scoped>\n",
       "    .dataframe tbody tr th:only-of-type {\n",
       "        vertical-align: middle;\n",
       "    }\n",
       "\n",
       "    .dataframe tbody tr th {\n",
       "        vertical-align: top;\n",
       "    }\n",
       "\n",
       "    .dataframe thead th {\n",
       "        text-align: right;\n",
       "    }\n",
       "</style>\n",
       "<table border=\"1\" class=\"dataframe\">\n",
       "  <thead>\n",
       "    <tr style=\"text-align: right;\">\n",
       "      <th></th>\n",
       "      <th>dateGameStarted</th>\n",
       "      <th>gameid</th>\n",
       "      <th>playerNameI</th>\n",
       "      <th>pointsTotal</th>\n",
       "      <th>FGA</th>\n",
       "      <th>FTA</th>\n",
       "      <th>TS%</th>\n",
       "    </tr>\n",
       "  </thead>\n",
       "  <tbody>\n",
       "    <tr>\n",
       "      <th>10022</th>\n",
       "      <td>2022-03-13</td>\n",
       "      <td>0022101010</td>\n",
       "      <td>J. Holiday</td>\n",
       "      <td>3.0</td>\n",
       "      <td>1</td>\n",
       "      <td>0.0</td>\n",
       "      <td>150.0</td>\n",
       "    </tr>\n",
       "    <tr>\n",
       "      <th>13994</th>\n",
       "      <td>2021-12-14</td>\n",
       "      <td>0022100404</td>\n",
       "      <td>L. Stevens</td>\n",
       "      <td>3.0</td>\n",
       "      <td>1</td>\n",
       "      <td>0.0</td>\n",
       "      <td>150.0</td>\n",
       "    </tr>\n",
       "    <tr>\n",
       "      <th>15456</th>\n",
       "      <td>2021-11-07</td>\n",
       "      <td>0022100141</td>\n",
       "      <td>M. Wagner</td>\n",
       "      <td>3.0</td>\n",
       "      <td>1</td>\n",
       "      <td>0.0</td>\n",
       "      <td>150.0</td>\n",
       "    </tr>\n",
       "    <tr>\n",
       "      <th>10343</th>\n",
       "      <td>2022-03-19</td>\n",
       "      <td>0022101047</td>\n",
       "      <td>J. Konchar</td>\n",
       "      <td>3.0</td>\n",
       "      <td>1</td>\n",
       "      <td>0.0</td>\n",
       "      <td>150.0</td>\n",
       "    </tr>\n",
       "    <tr>\n",
       "      <th>10334</th>\n",
       "      <td>2022-02-17</td>\n",
       "      <td>0022100879</td>\n",
       "      <td>J. Konchar</td>\n",
       "      <td>3.0</td>\n",
       "      <td>1</td>\n",
       "      <td>0.0</td>\n",
       "      <td>150.0</td>\n",
       "    </tr>\n",
       "  </tbody>\n",
       "</table>\n",
       "</div>"
      ],
      "text/plain": [
       "      dateGameStarted      gameid playerNameI  pointsTotal  FGA  FTA    TS%\n",
       "10022      2022-03-13  0022101010  J. Holiday          3.0    1  0.0  150.0\n",
       "13994      2021-12-14  0022100404  L. Stevens          3.0    1  0.0  150.0\n",
       "15456      2021-11-07  0022100141   M. Wagner          3.0    1  0.0  150.0\n",
       "10343      2022-03-19  0022101047  J. Konchar          3.0    1  0.0  150.0\n",
       "10334      2022-02-17  0022100879  J. Konchar          3.0    1  0.0  150.0"
      ]
     },
     "execution_count": 21,
     "metadata": {},
     "output_type": "execute_result"
    }
   ],
   "source": [
    "df_groupby.sort_values(['TS%'], ascending=False).head()\n",
    "\n",
    "#### Some of these dates are reflective of when the games actuallt occured\n",
    "# Alex len, Zeke Nnaji"
   ]
  },
  {
   "cell_type": "markdown",
   "id": "aa0431c2",
   "metadata": {},
   "source": [
    "### Plotting TS% Distribution by Game Per Player"
   ]
  },
  {
   "cell_type": "code",
   "execution_count": 22,
   "id": "f85f3780",
   "metadata": {},
   "outputs": [
    {
     "data": {
      "image/png": "[encoded data removed]",
      "text/plain": [
       "<Figure size 500x500 with 1 Axes>"
      ]
     },
     "metadata": {},
     "output_type": "display_data"
    }
   ],
   "source": [
    "# Plotting distribution of TS%s of all players games in the 2021-2022 season\n",
    "sns.displot(df_groupby, x='TS%');"
   ]
  },
  {
   "cell_type": "markdown",
   "id": "35d841ee",
   "metadata": {},
   "source": [
    "## Creating TS% for by PLayer for the 2021-2022 Season"
   ]
  },
  {
   "cell_type": "code",
   "execution_count": 23,
   "id": "abf665e3",
   "metadata": {},
   "outputs": [],
   "source": [
    "def ts_perc_dataframe_creation_whole_season(input_dataframe: pd.DataFrame)-> pd.DataFrame:\n",
    "        \"\"\"Takes in a dataframe and transforms the data and returns a dataframe with information about player TS% for the season\n",
    "\n",
    "        Additional information here\n",
    "        \"\"\"\n",
    "        \n",
    "        ### Getting Shot Attemps for season\n",
    "        df_most_info = input_dataframe\\\n",
    "                .groupby(['playerNameI', 'personId'], as_index=False)\\\n",
    "                .agg({'isFieldGoal':np.sum,\\\n",
    "                        'shotDistance':np.sum})\n",
    "\n",
    "        ### Getting Points MAX per game\n",
    "        df_points_per_game = input_dataframe\\\n",
    "                .groupby(['playerNameI','gameid', 'personId'], as_index=False)\\\n",
    "                .agg({'pointsTotal': np.max,})\n",
    "        \n",
    "        ### Getting sum of all points totals per game\n",
    "        df_points_seaon_totals = df_points_per_game\\\n",
    "                .groupby(['playerNameI','personId'], as_index=False)\\\n",
    "                .agg({'pointsTotal': np.sum,})\n",
    "\n",
    "        ### Getting Total FTAs\n",
    "        df_fta = input_dataframe[ ((input_dataframe.actionType == 'freethrow'))]\\\n",
    "                .groupby(['playerNameI','personId', 'actionType'], as_index=False)['actionType'].count()\n",
    "\n",
    "        # Merging most and total_points\n",
    "        df_points_and_most = pd.merge(df_most_info, df_points_seaon_totals, how='inner', on=['personId','playerNameI',])\n",
    "\n",
    "        #Merging DFs on columns playernamei and personId\n",
    "        combined_df_all_metrics_season = pd.merge(df_points_and_most, df_fta, how='left', on=['personId','playerNameI',])\n",
    "\n",
    "        # Renaming Column Names\n",
    "        combined_df_all_metrics_season = combined_df_all_metrics_season.rename(columns={'isFieldGoal':'FGA', 'actionType':'FTA'})\n",
    "\n",
    "        # Moving columns to a better order\n",
    "        cols: list[str] = ['playerNameI', 'pointsTotal', 'FGA', 'FTA', 'shotDistance']\n",
    "        combined_df_all_metrics_season = combined_df_all_metrics_season[cols]\n",
    "\n",
    "        # Replacing Nans in the DF with 0s\n",
    "        combined_df_all_metrics_season =combined_df_all_metrics_season.fillna(0)\n",
    "\n",
    "        # Creating TS% column\n",
    "        combined_df_all_metrics_season['TS%'] = round((combined_df_all_metrics_season['pointsTotal'])/\\\n",
    "                        (2*((combined_df_all_metrics_season['FGA'])+ (combined_df_all_metrics_season['FTA']*.44))) * 100,3)\n",
    "\n",
    "        ### Getting AVG shot distance per player for season\n",
    "        combined_df_all_metrics_season['avg_shot_distance_FT'] = round(combined_df_all_metrics_season.shotDistance/combined_df_all_metrics_season.FGA,3)\n",
    "        \n",
    "        return combined_df_all_metrics_season"
   ]
  },
  {
   "cell_type": "markdown",
   "id": "bb6947d1",
   "metadata": {},
   "source": [
    "### Calling Season TS% Function"
   ]
  },
  {
   "cell_type": "code",
   "execution_count": 24,
   "id": "b3efc5d7",
   "metadata": {},
   "outputs": [],
   "source": [
    "df_groupby_season = ts_perc_dataframe_creation_whole_season(df_players_removed)"
   ]
  },
  {
   "cell_type": "code",
   "execution_count": 53,
   "id": "18306abd",
   "metadata": {},
   "outputs": [
    {
     "data": {
      "text/html": [
       "<div>\n",
       "<style scoped>\n",
       "    .dataframe tbody tr th:only-of-type {\n",
       "        vertical-align: middle;\n",
       "    }\n",
       "\n",
       "    .dataframe tbody tr th {\n",
       "        vertical-align: top;\n",
       "    }\n",
       "\n",
       "    .dataframe thead th {\n",
       "        text-align: right;\n",
       "    }\n",
       "</style>\n",
       "<table border=\"1\" class=\"dataframe\">\n",
       "  <thead>\n",
       "    <tr style=\"text-align: right;\">\n",
       "      <th></th>\n",
       "      <th>playerNameI</th>\n",
       "      <th>pointsTotal</th>\n",
       "      <th>FGA</th>\n",
       "      <th>FTA</th>\n",
       "      <th>shotDistance</th>\n",
       "      <th>TS%</th>\n",
       "      <th>avg_shot_distance</th>\n",
       "    </tr>\n",
       "  </thead>\n",
       "  <tbody>\n",
       "    <tr>\n",
       "      <th>0</th>\n",
       "      <td>A. Bradley</td>\n",
       "      <td>394.0</td>\n",
       "      <td>350</td>\n",
       "      <td>18</td>\n",
       "      <td>6317.45</td>\n",
       "      <td>55.040</td>\n",
       "      <td>18.050</td>\n",
       "    </tr>\n",
       "    <tr>\n",
       "      <th>1</th>\n",
       "      <td>A. Burks</td>\n",
       "      <td>944.0</td>\n",
       "      <td>728</td>\n",
       "      <td>264</td>\n",
       "      <td>12635.16</td>\n",
       "      <td>55.914</td>\n",
       "      <td>17.356</td>\n",
       "    </tr>\n",
       "    <tr>\n",
       "      <th>2</th>\n",
       "      <td>A. Caruso</td>\n",
       "      <td>304.0</td>\n",
       "      <td>257</td>\n",
       "      <td>73</td>\n",
       "      <td>3992.20</td>\n",
       "      <td>52.573</td>\n",
       "      <td>15.534</td>\n",
       "    </tr>\n",
       "    <tr>\n",
       "      <th>3</th>\n",
       "      <td>A. Coffey</td>\n",
       "      <td>619.0</td>\n",
       "      <td>466</td>\n",
       "      <td>117</td>\n",
       "      <td>7817.39</td>\n",
       "      <td>59.809</td>\n",
       "      <td>16.776</td>\n",
       "    </tr>\n",
       "    <tr>\n",
       "      <th>4</th>\n",
       "      <td>A. Davis</td>\n",
       "      <td>927.0</td>\n",
       "      <td>695</td>\n",
       "      <td>244</td>\n",
       "      <td>6686.61</td>\n",
       "      <td>57.767</td>\n",
       "      <td>9.621</td>\n",
       "    </tr>\n",
       "  </tbody>\n",
       "</table>\n",
       "</div>"
      ],
      "text/plain": [
       "  playerNameI  pointsTotal  FGA  FTA  shotDistance     TS%  avg_shot_distance\n",
       "0  A. Bradley        394.0  350   18       6317.45  55.040             18.050\n",
       "1    A. Burks        944.0  728  264      12635.16  55.914             17.356\n",
       "2   A. Caruso        304.0  257   73       3992.20  52.573             15.534\n",
       "3   A. Coffey        619.0  466  117       7817.39  59.809             16.776\n",
       "4    A. Davis        927.0  695  244       6686.61  57.767              9.621"
      ]
     },
     "execution_count": 53,
     "metadata": {},
     "output_type": "execute_result"
    }
   ],
   "source": [
    "df_groupby_season.head()"
   ]
  },
  {
   "cell_type": "markdown",
   "id": "86a794f9",
   "metadata": {},
   "source": [
    "### Plotting Season TS% for all players 2021-2022 Season"
   ]
  },
  {
   "cell_type": "code",
   "execution_count": 56,
   "id": "430722ef",
   "metadata": {},
   "outputs": [
    {
     "data": {
      "image/png": "[encoded data removed]",
      "text/plain": [
       "<Figure size 500x500 with 1 Axes>"
      ]
     },
     "metadata": {},
     "output_type": "display_data"
    }
   ],
   "source": [
    "# Data\n",
    "seaborn_plot = sns.histplot(df_groupby_season['TS%'], label='samples', stat='density')"
   ]
  },
  {
   "cell_type": "markdown",
   "id": "725323bd",
   "metadata": {},
   "source": [
    "## Plotting AVG Shot Distance against Season TS%"
   ]
  },
  {
   "cell_type": "code",
   "execution_count": 60,
   "id": "fc7a754b",
   "metadata": {},
   "outputs": [
    {
     "data": {
      "image/png": "[encoded data removed]",
      "text/plain": [
       "<Figure size 700x700 with 1 Axes>"
      ]
     },
     "metadata": {},
     "output_type": "display_data"
    }
   ],
   "source": [
    "# Map TS% and average distance per shot for the whole season\n",
    "sns.set(rc={'figure.figsize':(7,7)})\n",
    "# sns.scatterplot(df_groupby_season, x='TS%', y='avg_shot_distance', color='blue')\n",
    "sns.regplot(data=df_groupby_season, x='TS%', y='avg_shot_distance', color='blue');\n"
   ]
  },
  {
   "cell_type": "markdown",
   "id": "ec2a3f0a",
   "metadata": {},
   "source": [
    "## Analyzing % of shots missed and made by distance"
   ]
  },
  {
   "cell_type": "code",
   "execution_count": 28,
   "id": "863af929",
   "metadata": {},
   "outputs": [],
   "source": [
    "# Creating 2 distributions of shots made from distance and shots missed from distance\n",
    "# final_df_copy.shotDistance = final_df_copy.shotDistance.round(1)\n",
    "df_shot_made = final_df_copy[((final_df_copy.actionType != 'freethrow') & (final_df_copy.shotResult == 'Made'))][['shotDistance', 'shotResult', 'actionType']]\n",
    "df_shot_missed = final_df_copy[((final_df_copy.actionType != 'freethrow') & (final_df_copy.shotResult == 'Missed'))][['shotDistance', 'shotResult', 'actionType']]\n",
    "df_shots_combined = pd.concat([df_shot_made, df_shot_missed])\n",
    "df_shots_combined = df_shots_combined[df_shots_combined.shotDistance <= 46.0]"
   ]
  },
  {
   "cell_type": "code",
   "execution_count": 29,
   "id": "1f2efae8",
   "metadata": {},
   "outputs": [
    {
     "data": {
      "image/png": "[encoded data removed]",
      "text/plain": [
       "<Figure size 1093.5x900 with 1 Axes>"
      ]
     },
     "metadata": {},
     "output_type": "display_data"
    }
   ],
   "source": [
    "sns.set(rc={'figure.figsize':(5,5)})\n",
    "sns.displot(df_shots_combined,x='shotDistance', binwidth=1, hue='shotResult', height=7, aspect=1.10);\n",
    "\n",
    "# Get x axis to show ticks every 2 feet"
   ]
  },
  {
   "cell_type": "markdown",
   "id": "3a5e4000",
   "metadata": {},
   "source": [
    "## Analyzing Best players in the clutch\n",
    "### % of team points and total points in clutch\n",
    "#### Clutch is defined as games where teams are within 5 points under 5 minutes remaining"
   ]
  },
  {
   "cell_type": "code",
   "execution_count": 30,
   "id": "7eb23cde",
   "metadata": {},
   "outputs": [],
   "source": [
    "df_clutch = final_df_copy\n",
    "\n",
    "# creating a date column\n",
    "df_clutch['dateGameStarted'] = pd.to_datetime(df_clutch.timeActual).dt.date\n",
    "# Using period_to_time_conversion function\n",
    "df_clutch['period_to_time'] = df_clutch['period'].map(period_to_time_conversion)    \n",
    "# Using time_conversion fucntion\n",
    "df_clutch['time_passed_in_seconds'] = df_clutch['clock'].map(time_conversion)\n",
    "# Using total_time_passed function\n",
    "df_clutch['Total_time_passed_in_game'] = list(map(total_time_passed, df_clutch.period_to_time, df_clutch.time_passed_in_seconds))"
   ]
  },
  {
   "cell_type": "markdown",
   "id": "b3df792f",
   "metadata": {},
   "source": [
    "### Changing Column Data Types For Analysis"
   ]
  },
  {
   "cell_type": "code",
   "execution_count": 31,
   "id": "dc521cd6",
   "metadata": {},
   "outputs": [],
   "source": [
    "df_clutch = df_clutch.astype({'scoreHome': 'int64', 'scoreAway':'int64'})"
   ]
  },
  {
   "cell_type": "markdown",
   "id": "b7ca3c4e",
   "metadata": {},
   "source": [
    "### Filtering clutch dataframe to only records within the last 5 minutes and within a 5 point +/- difference"
   ]
  },
  {
   "cell_type": "code",
   "execution_count": 32,
   "id": "dc06653f",
   "metadata": {},
   "outputs": [],
   "source": [
    "df_clutch_final = df_clutch[(df_clutch['Total_time_passed_in_game'] >='1900-01-01 00:43:00' ) &\\\n",
    "                                     (abs(df_clutch['scoreHome']- df_clutch['scoreAway']) <= 5)]"
   ]
  },
  {
   "cell_type": "code",
   "execution_count": 33,
   "id": "9613c1b6",
   "metadata": {},
   "outputs": [
    {
     "data": {
      "text/html": [
       "<div>\n",
       "<style scoped>\n",
       "    .dataframe tbody tr th:only-of-type {\n",
       "        vertical-align: middle;\n",
       "    }\n",
       "\n",
       "    .dataframe tbody tr th {\n",
       "        vertical-align: top;\n",
       "    }\n",
       "\n",
       "    .dataframe thead th {\n",
       "        text-align: right;\n",
       "    }\n",
       "</style>\n",
       "<table border=\"1\" class=\"dataframe\">\n",
       "  <thead>\n",
       "    <tr style=\"text-align: right;\">\n",
       "      <th></th>\n",
       "      <th>actionNumber</th>\n",
       "      <th>clock</th>\n",
       "      <th>timeActual</th>\n",
       "      <th>period</th>\n",
       "      <th>periodType</th>\n",
       "      <th>actionType</th>\n",
       "      <th>subType</th>\n",
       "      <th>qualifiers</th>\n",
       "      <th>personId</th>\n",
       "      <th>x</th>\n",
       "      <th>y</th>\n",
       "      <th>possession</th>\n",
       "      <th>scoreHome</th>\n",
       "      <th>scoreAway</th>\n",
       "      <th>edited</th>\n",
       "      <th>orderNumber</th>\n",
       "      <th>xLegacy</th>\n",
       "      <th>yLegacy</th>\n",
       "      <th>isFieldGoal</th>\n",
       "      <th>side</th>\n",
       "      <th>description</th>\n",
       "      <th>personIdsFilter</th>\n",
       "      <th>teamId</th>\n",
       "      <th>teamTricode</th>\n",
       "      <th>descriptor</th>\n",
       "      <th>jumpBallRecoveredName</th>\n",
       "      <th>jumpBallRecoverdPersonId</th>\n",
       "      <th>playerName</th>\n",
       "      <th>playerNameI</th>\n",
       "      <th>jumpBallWonPlayerName</th>\n",
       "      <th>jumpBallWonPersonId</th>\n",
       "      <th>jumpBallLostPlayerName</th>\n",
       "      <th>jumpBallLostPersonId</th>\n",
       "      <th>shotDistance</th>\n",
       "      <th>shotResult</th>\n",
       "      <th>pointsTotal</th>\n",
       "      <th>assistPlayerNameInitial</th>\n",
       "      <th>assistPersonId</th>\n",
       "      <th>assistTotal</th>\n",
       "      <th>blockPlayerName</th>\n",
       "      <th>blockPersonId</th>\n",
       "      <th>shotActionNumber</th>\n",
       "      <th>reboundTotal</th>\n",
       "      <th>reboundDefensiveTotal</th>\n",
       "      <th>reboundOffensiveTotal</th>\n",
       "      <th>turnoverTotal</th>\n",
       "      <th>stealPlayerName</th>\n",
       "      <th>stealPersonId</th>\n",
       "      <th>officialId</th>\n",
       "      <th>foulPersonalTotal</th>\n",
       "      <th>foulTechnicalTotal</th>\n",
       "      <th>foulDrawnPlayerName</th>\n",
       "      <th>foulDrawnPersonId</th>\n",
       "      <th>value</th>\n",
       "      <th>gameid</th>\n",
       "      <th>dateGameStarted</th>\n",
       "      <th>period_to_time</th>\n",
       "      <th>time_passed_in_seconds</th>\n",
       "      <th>Total_time_passed_in_game</th>\n",
       "    </tr>\n",
       "  </thead>\n",
       "  <tbody>\n",
       "    <tr>\n",
       "      <th>2085</th>\n",
       "      <td>640</td>\n",
       "      <td>PT04M56.00S</td>\n",
       "      <td>2022-04-11T03:55:04.1Z</td>\n",
       "      <td>4</td>\n",
       "      <td>REGULAR</td>\n",
       "      <td>3pt</td>\n",
       "      <td>Jump Shot</td>\n",
       "      <td>[]</td>\n",
       "      <td>1628370</td>\n",
       "      <td>76.691853</td>\n",
       "      <td>88.970588</td>\n",
       "      <td>1610612747</td>\n",
       "      <td>123</td>\n",
       "      <td>118</td>\n",
       "      <td>2022-04-11T03:55:08Z</td>\n",
       "      <td>6250000</td>\n",
       "      <td>195.0</td>\n",
       "      <td>167.0</td>\n",
       "      <td>1</td>\n",
       "      <td>right</td>\n",
       "      <td>M. Monk 25' 3PT  (41 PTS) (A. Reaves 10 AST)</td>\n",
       "      <td>[1628370, 1630559]</td>\n",
       "      <td>1.610613e+09</td>\n",
       "      <td>LAL</td>\n",
       "      <td>NaN</td>\n",
       "      <td>NaN</td>\n",
       "      <td>NaN</td>\n",
       "      <td>Monk</td>\n",
       "      <td>M. Monk</td>\n",
       "      <td>NaN</td>\n",
       "      <td>NaN</td>\n",
       "      <td>NaN</td>\n",
       "      <td>NaN</td>\n",
       "      <td>25.64</td>\n",
       "      <td>Made</td>\n",
       "      <td>41.0</td>\n",
       "      <td>A. Reaves</td>\n",
       "      <td>1630559.0</td>\n",
       "      <td>10.0</td>\n",
       "      <td>NaN</td>\n",
       "      <td>NaN</td>\n",
       "      <td>NaN</td>\n",
       "      <td>NaN</td>\n",
       "      <td>NaN</td>\n",
       "      <td>NaN</td>\n",
       "      <td>NaN</td>\n",
       "      <td>NaN</td>\n",
       "      <td>NaN</td>\n",
       "      <td>NaN</td>\n",
       "      <td>NaN</td>\n",
       "      <td>NaN</td>\n",
       "      <td>NaN</td>\n",
       "      <td>NaN</td>\n",
       "      <td>NaN</td>\n",
       "      <td>0022101220</td>\n",
       "      <td>2022-04-11</td>\n",
       "      <td>36</td>\n",
       "      <td>0 days 00:07:04</td>\n",
       "      <td>1900-01-01 00:43:04</td>\n",
       "    </tr>\n",
       "    <tr>\n",
       "      <th>2086</th>\n",
       "      <td>642</td>\n",
       "      <td>PT04M42.00S</td>\n",
       "      <td>2022-04-11T03:55:18.2Z</td>\n",
       "      <td>4</td>\n",
       "      <td>REGULAR</td>\n",
       "      <td>2pt</td>\n",
       "      <td>Layup</td>\n",
       "      <td>[pointsinthepaint]</td>\n",
       "      <td>1627854</td>\n",
       "      <td>8.360710</td>\n",
       "      <td>42.647059</td>\n",
       "      <td>1610612743</td>\n",
       "      <td>123</td>\n",
       "      <td>118</td>\n",
       "      <td>2022-04-11T03:55:28Z</td>\n",
       "      <td>6270000</td>\n",
       "      <td>37.0</td>\n",
       "      <td>26.0</td>\n",
       "      <td>1</td>\n",
       "      <td>left</td>\n",
       "      <td>MISS B. Forbes driving Layup</td>\n",
       "      <td>[1627854]</td>\n",
       "      <td>1.610613e+09</td>\n",
       "      <td>DEN</td>\n",
       "      <td>driving</td>\n",
       "      <td>NaN</td>\n",
       "      <td>NaN</td>\n",
       "      <td>Forbes</td>\n",
       "      <td>B. Forbes</td>\n",
       "      <td>NaN</td>\n",
       "      <td>NaN</td>\n",
       "      <td>NaN</td>\n",
       "      <td>NaN</td>\n",
       "      <td>4.51</td>\n",
       "      <td>Missed</td>\n",
       "      <td>NaN</td>\n",
       "      <td>NaN</td>\n",
       "      <td>NaN</td>\n",
       "      <td>NaN</td>\n",
       "      <td>NaN</td>\n",
       "      <td>NaN</td>\n",
       "      <td>NaN</td>\n",
       "      <td>NaN</td>\n",
       "      <td>NaN</td>\n",
       "      <td>NaN</td>\n",
       "      <td>NaN</td>\n",
       "      <td>NaN</td>\n",
       "      <td>NaN</td>\n",
       "      <td>NaN</td>\n",
       "      <td>NaN</td>\n",
       "      <td>NaN</td>\n",
       "      <td>NaN</td>\n",
       "      <td>NaN</td>\n",
       "      <td>NaN</td>\n",
       "      <td>0022101220</td>\n",
       "      <td>2022-04-11</td>\n",
       "      <td>36</td>\n",
       "      <td>0 days 00:07:18</td>\n",
       "      <td>1900-01-01 00:43:18</td>\n",
       "    </tr>\n",
       "    <tr>\n",
       "      <th>2087</th>\n",
       "      <td>643</td>\n",
       "      <td>PT04M41.00S</td>\n",
       "      <td>2022-04-11T03:55:19.2Z</td>\n",
       "      <td>4</td>\n",
       "      <td>REGULAR</td>\n",
       "      <td>rebound</td>\n",
       "      <td>defensive</td>\n",
       "      <td>[]</td>\n",
       "      <td>1629117</td>\n",
       "      <td>NaN</td>\n",
       "      <td>NaN</td>\n",
       "      <td>1610612747</td>\n",
       "      <td>123</td>\n",
       "      <td>118</td>\n",
       "      <td>2022-04-11T03:55:28Z</td>\n",
       "      <td>6280000</td>\n",
       "      <td>NaN</td>\n",
       "      <td>NaN</td>\n",
       "      <td>0</td>\n",
       "      <td>None</td>\n",
       "      <td>W. Gabriel REBOUND (Off:5 Def:4)</td>\n",
       "      <td>[1629117]</td>\n",
       "      <td>1.610613e+09</td>\n",
       "      <td>LAL</td>\n",
       "      <td>NaN</td>\n",
       "      <td>NaN</td>\n",
       "      <td>NaN</td>\n",
       "      <td>Gabriel</td>\n",
       "      <td>W. Gabriel</td>\n",
       "      <td>NaN</td>\n",
       "      <td>NaN</td>\n",
       "      <td>NaN</td>\n",
       "      <td>NaN</td>\n",
       "      <td>NaN</td>\n",
       "      <td>NaN</td>\n",
       "      <td>NaN</td>\n",
       "      <td>NaN</td>\n",
       "      <td>NaN</td>\n",
       "      <td>NaN</td>\n",
       "      <td>NaN</td>\n",
       "      <td>NaN</td>\n",
       "      <td>642.0</td>\n",
       "      <td>9.0</td>\n",
       "      <td>4.0</td>\n",
       "      <td>5.0</td>\n",
       "      <td>NaN</td>\n",
       "      <td>NaN</td>\n",
       "      <td>NaN</td>\n",
       "      <td>NaN</td>\n",
       "      <td>NaN</td>\n",
       "      <td>NaN</td>\n",
       "      <td>NaN</td>\n",
       "      <td>NaN</td>\n",
       "      <td>NaN</td>\n",
       "      <td>0022101220</td>\n",
       "      <td>2022-04-11</td>\n",
       "      <td>36</td>\n",
       "      <td>0 days 00:07:19</td>\n",
       "      <td>1900-01-01 00:43:19</td>\n",
       "    </tr>\n",
       "    <tr>\n",
       "      <th>2088</th>\n",
       "      <td>644</td>\n",
       "      <td>PT04M36.00S</td>\n",
       "      <td>2022-04-11T03:55:24.9Z</td>\n",
       "      <td>4</td>\n",
       "      <td>REGULAR</td>\n",
       "      <td>turnover</td>\n",
       "      <td>lost ball</td>\n",
       "      <td>[]</td>\n",
       "      <td>1626169</td>\n",
       "      <td>NaN</td>\n",
       "      <td>NaN</td>\n",
       "      <td>1610612747</td>\n",
       "      <td>123</td>\n",
       "      <td>118</td>\n",
       "      <td>2022-04-11T03:55:31Z</td>\n",
       "      <td>6290000</td>\n",
       "      <td>NaN</td>\n",
       "      <td>NaN</td>\n",
       "      <td>0</td>\n",
       "      <td>None</td>\n",
       "      <td>S. Johnson lost ball TURNOVER (2 TO)</td>\n",
       "      <td>[1626169, 1630210]</td>\n",
       "      <td>1.610613e+09</td>\n",
       "      <td>LAL</td>\n",
       "      <td>NaN</td>\n",
       "      <td>NaN</td>\n",
       "      <td>NaN</td>\n",
       "      <td>Johnson</td>\n",
       "      <td>S. Johnson</td>\n",
       "      <td>NaN</td>\n",
       "      <td>NaN</td>\n",
       "      <td>NaN</td>\n",
       "      <td>NaN</td>\n",
       "      <td>NaN</td>\n",
       "      <td>NaN</td>\n",
       "      <td>NaN</td>\n",
       "      <td>NaN</td>\n",
       "      <td>NaN</td>\n",
       "      <td>NaN</td>\n",
       "      <td>NaN</td>\n",
       "      <td>NaN</td>\n",
       "      <td>NaN</td>\n",
       "      <td>NaN</td>\n",
       "      <td>NaN</td>\n",
       "      <td>NaN</td>\n",
       "      <td>2.0</td>\n",
       "      <td>Howard</td>\n",
       "      <td>1630210.0</td>\n",
       "      <td>NaN</td>\n",
       "      <td>NaN</td>\n",
       "      <td>NaN</td>\n",
       "      <td>NaN</td>\n",
       "      <td>NaN</td>\n",
       "      <td>NaN</td>\n",
       "      <td>0022101220</td>\n",
       "      <td>2022-04-11</td>\n",
       "      <td>36</td>\n",
       "      <td>0 days 00:07:24</td>\n",
       "      <td>1900-01-01 00:43:24</td>\n",
       "    </tr>\n",
       "    <tr>\n",
       "      <th>2089</th>\n",
       "      <td>645</td>\n",
       "      <td>PT04M36.00S</td>\n",
       "      <td>2022-04-11T03:55:24.9Z</td>\n",
       "      <td>4</td>\n",
       "      <td>REGULAR</td>\n",
       "      <td>steal</td>\n",
       "      <td>NaN</td>\n",
       "      <td>[]</td>\n",
       "      <td>1630210</td>\n",
       "      <td>NaN</td>\n",
       "      <td>NaN</td>\n",
       "      <td>1610612743</td>\n",
       "      <td>123</td>\n",
       "      <td>118</td>\n",
       "      <td>2022-04-11T03:55:26Z</td>\n",
       "      <td>6300000</td>\n",
       "      <td>NaN</td>\n",
       "      <td>NaN</td>\n",
       "      <td>0</td>\n",
       "      <td>None</td>\n",
       "      <td>M. Howard STEAL (1 STL)</td>\n",
       "      <td>[1630210]</td>\n",
       "      <td>1.610613e+09</td>\n",
       "      <td>DEN</td>\n",
       "      <td>NaN</td>\n",
       "      <td>NaN</td>\n",
       "      <td>NaN</td>\n",
       "      <td>Howard</td>\n",
       "      <td>M. Howard</td>\n",
       "      <td>NaN</td>\n",
       "      <td>NaN</td>\n",
       "      <td>NaN</td>\n",
       "      <td>NaN</td>\n",
       "      <td>NaN</td>\n",
       "      <td>NaN</td>\n",
       "      <td>NaN</td>\n",
       "      <td>NaN</td>\n",
       "      <td>NaN</td>\n",
       "      <td>NaN</td>\n",
       "      <td>NaN</td>\n",
       "      <td>NaN</td>\n",
       "      <td>NaN</td>\n",
       "      <td>NaN</td>\n",
       "      <td>NaN</td>\n",
       "      <td>NaN</td>\n",
       "      <td>NaN</td>\n",
       "      <td>NaN</td>\n",
       "      <td>NaN</td>\n",
       "      <td>NaN</td>\n",
       "      <td>NaN</td>\n",
       "      <td>NaN</td>\n",
       "      <td>NaN</td>\n",
       "      <td>NaN</td>\n",
       "      <td>NaN</td>\n",
       "      <td>0022101220</td>\n",
       "      <td>2022-04-11</td>\n",
       "      <td>36</td>\n",
       "      <td>0 days 00:07:24</td>\n",
       "      <td>1900-01-01 00:43:24</td>\n",
       "    </tr>\n",
       "  </tbody>\n",
       "</table>\n",
       "</div>"
      ],
      "text/plain": [
       "      actionNumber        clock              timeActual  period periodType actionType    subType          qualifiers  personId          x          y  possession  scoreHome  scoreAway                edited  orderNumber  xLegacy  yLegacy  isFieldGoal   side                                   description     personIdsFilter        teamId teamTricode descriptor jumpBallRecoveredName  jumpBallRecoverdPersonId playerName playerNameI jumpBallWonPlayerName  jumpBallWonPersonId jumpBallLostPlayerName  jumpBallLostPersonId  shotDistance shotResult  pointsTotal assistPlayerNameInitial  assistPersonId  assistTotal blockPlayerName  blockPersonId  shotActionNumber  reboundTotal  reboundDefensiveTotal  reboundOffensiveTotal  turnoverTotal stealPlayerName  stealPersonId  officialId  foulPersonalTotal  foulTechnicalTotal foulDrawnPlayerName  foulDrawnPersonId value      gameid dateGameStarted  period_to_time time_passed_in_seconds Total_time_passed_in_game\n",
       "2085           640  PT04M56.00S  2022-04-11T03:55:04.1Z       4    REGULAR        3pt  Jump Shot                  []   1628370  76.691853  88.970588  1610612747        123        118  2022-04-11T03:55:08Z      6250000    195.0    167.0            1  right  M. Monk 25' 3PT  (41 PTS) (A. Reaves 10 AST)  [1628370, 1630559]  1.610613e+09         LAL        NaN                   NaN                       NaN       Monk     M. Monk                   NaN                  NaN                    NaN                   NaN         25.64       Made         41.0               A. Reaves       1630559.0         10.0             NaN            NaN               NaN           NaN                    NaN                    NaN            NaN             NaN            NaN         NaN                NaN                 NaN                 NaN                NaN   NaN  0022101220      2022-04-11              36        0 days 00:07:04       1900-01-01 00:43:04\n",
       "2086           642  PT04M42.00S  2022-04-11T03:55:18.2Z       4    REGULAR        2pt      Layup  [pointsinthepaint]   1627854   8.360710  42.647059  1610612743        123        118  2022-04-11T03:55:28Z      6270000     37.0     26.0            1   left                  MISS B. Forbes driving Layup           [1627854]  1.610613e+09         DEN    driving                   NaN                       NaN     Forbes   B. Forbes                   NaN                  NaN                    NaN                   NaN          4.51     Missed          NaN                     NaN             NaN          NaN             NaN            NaN               NaN           NaN                    NaN                    NaN            NaN             NaN            NaN         NaN                NaN                 NaN                 NaN                NaN   NaN  0022101220      2022-04-11              36        0 days 00:07:18       1900-01-01 00:43:18\n",
       "2087           643  PT04M41.00S  2022-04-11T03:55:19.2Z       4    REGULAR    rebound  defensive                  []   1629117        NaN        NaN  1610612747        123        118  2022-04-11T03:55:28Z      6280000      NaN      NaN            0   None              W. Gabriel REBOUND (Off:5 Def:4)           [1629117]  1.610613e+09         LAL        NaN                   NaN                       NaN    Gabriel  W. Gabriel                   NaN                  NaN                    NaN                   NaN           NaN        NaN          NaN                     NaN             NaN          NaN             NaN            NaN             642.0           9.0                    4.0                    5.0            NaN             NaN            NaN         NaN                NaN                 NaN                 NaN                NaN   NaN  0022101220      2022-04-11              36        0 days 00:07:19       1900-01-01 00:43:19\n",
       "2088           644  PT04M36.00S  2022-04-11T03:55:24.9Z       4    REGULAR   turnover  lost ball                  []   1626169        NaN        NaN  1610612747        123        118  2022-04-11T03:55:31Z      6290000      NaN      NaN            0   None          S. Johnson lost ball TURNOVER (2 TO)  [1626169, 1630210]  1.610613e+09         LAL        NaN                   NaN                       NaN    Johnson  S. Johnson                   NaN                  NaN                    NaN                   NaN           NaN        NaN          NaN                     NaN             NaN          NaN             NaN            NaN               NaN           NaN                    NaN                    NaN            2.0          Howard      1630210.0         NaN                NaN                 NaN                 NaN                NaN   NaN  0022101220      2022-04-11              36        0 days 00:07:24       1900-01-01 00:43:24\n",
       "2089           645  PT04M36.00S  2022-04-11T03:55:24.9Z       4    REGULAR      steal        NaN                  []   1630210        NaN        NaN  1610612743        123        118  2022-04-11T03:55:26Z      6300000      NaN      NaN            0   None                       M. Howard STEAL (1 STL)           [1630210]  1.610613e+09         DEN        NaN                   NaN                       NaN     Howard   M. Howard                   NaN                  NaN                    NaN                   NaN           NaN        NaN          NaN                     NaN             NaN          NaN             NaN            NaN               NaN           NaN                    NaN                    NaN            NaN             NaN            NaN         NaN                NaN                 NaN                 NaN                NaN   NaN  0022101220      2022-04-11              36        0 days 00:07:24       1900-01-01 00:43:24"
      ]
     },
     "execution_count": 33,
     "metadata": {},
     "output_type": "execute_result"
    }
   ],
   "source": [
    "df_clutch_final.head()"
   ]
  },
  {
   "cell_type": "code",
   "execution_count": 34,
   "id": "284748af",
   "metadata": {},
   "outputs": [
    {
     "data": {
      "text/plain": [
       "array(['3pt', 'freethrow', '2pt'], dtype=object)"
      ]
     },
     "execution_count": 34,
     "metadata": {},
     "output_type": "execute_result"
    }
   ],
   "source": [
    "df_clutch_final[df_clutch_final['shotResult']=='Made']['actionType'].unique()"
   ]
  },
  {
   "cell_type": "markdown",
   "id": "c03b867c",
   "metadata": {},
   "source": [
    "## Creating a column for score value per action type"
   ]
  },
  {
   "cell_type": "code",
   "execution_count": 35,
   "id": "af80e45e",
   "metadata": {},
   "outputs": [],
   "source": [
    "# Build out another column for each point scored per team\n",
    "def score_per_shot_type(df) -> int:\n",
    "    \"\"\"Takes in action type (shot) when the given action is \"made\" and returns a point value associated with the made shot\"\"\"\n",
    "    if (df['shotResult'] == 'Made') & (df['actionType'] == 'freethrow'):\n",
    "        return 1\n",
    "    elif (df['shotResult'] == 'Made') & (df['actionType'] == '2pt'):\n",
    "        return 2\n",
    "    elif (df['shotResult'] == 'Made') & (df['actionType'] == '3pt'):\n",
    "        return 3\n",
    "    else:\n",
    "        return 0"
   ]
  },
  {
   "cell_type": "code",
   "execution_count": 36,
   "id": "0b8df888",
   "metadata": {},
   "outputs": [
    {
     "name": "stderr",
     "output_type": "stream",
     "text": [
      "/var/folders/_l/4wqjn4456n15dy3l1xmxt0nh0000gn/T/ipykernel_14478/3577904395.py:1: SettingWithCopyWarning: \n",
      "A value is trying to be set on a copy of a slice from a DataFrame.\n",
      "Try using .loc[row_indexer,col_indexer] = value instead\n",
      "\n",
      "See the caveats in the documentation: https://pandas.pydata.org/pandas-docs/stable/user_guide/indexing.html#returning-a-view-versus-a-copy\n",
      "  df_clutch_final['score_value'] = df_clutch_final.apply(score_per_shot_type, axis=1)\n"
     ]
    }
   ],
   "source": [
    "df_clutch_final['score_value'] = df_clutch_final.apply(score_per_shot_type, axis=1)"
   ]
  },
  {
   "cell_type": "markdown",
   "id": "86de9964",
   "metadata": {},
   "source": [
    "### Getting total team points in the clutch"
   ]
  },
  {
   "cell_type": "code",
   "execution_count": 37,
   "id": "1423a889",
   "metadata": {},
   "outputs": [],
   "source": [
    "# Get each teams total points scored in the clutch for the entire season\n",
    "sum_total_points_in_clutch = df_clutch_final.groupby(['teamTricode', 'teamId']).agg({'score_value':np.sum}).reset_index()"
   ]
  },
  {
   "cell_type": "markdown",
   "id": "fa3f4e67",
   "metadata": {},
   "source": [
    "### Getting total player points in the clutch"
   ]
  },
  {
   "cell_type": "code",
   "execution_count": 38,
   "id": "4e087ede",
   "metadata": {},
   "outputs": [],
   "source": [
    "sum_total_points_per_player = df_clutch_final.groupby(['teamTricode', 'teamId', 'personId', 'playerNameI']).agg({'score_value':np.sum}).reset_index()"
   ]
  },
  {
   "cell_type": "markdown",
   "id": "18641b32",
   "metadata": {},
   "source": [
    "### Getting player points in clutch as a % of teams totals"
   ]
  },
  {
   "cell_type": "code",
   "execution_count": 39,
   "id": "9cf860c4",
   "metadata": {},
   "outputs": [],
   "source": [
    "combined_players_teams_points = sum_total_points_per_player.merge(sum_total_points_in_clutch,how='left', on=['teamTricode', 'teamId'], suffixes=('player_points', 'team_points'))\n",
    "combined_players_teams_points['percentage_of_teams_total_clutch_points'] = round(combined_players_teams_points['score_valueplayer_points']/combined_players_teams_points['score_valueteam_points']*100,2)"
   ]
  },
  {
   "cell_type": "code",
   "execution_count": 40,
   "id": "90907e11",
   "metadata": {},
   "outputs": [
    {
     "data": {
      "text/html": [
       "<div>\n",
       "<style scoped>\n",
       "    .dataframe tbody tr th:only-of-type {\n",
       "        vertical-align: middle;\n",
       "    }\n",
       "\n",
       "    .dataframe tbody tr th {\n",
       "        vertical-align: top;\n",
       "    }\n",
       "\n",
       "    .dataframe thead th {\n",
       "        text-align: right;\n",
       "    }\n",
       "</style>\n",
       "<table border=\"1\" class=\"dataframe\">\n",
       "  <thead>\n",
       "    <tr style=\"text-align: right;\">\n",
       "      <th></th>\n",
       "      <th>teamTricode</th>\n",
       "      <th>teamId</th>\n",
       "      <th>personId</th>\n",
       "      <th>playerNameI</th>\n",
       "      <th>score_valueplayer_points</th>\n",
       "      <th>score_valueteam_points</th>\n",
       "      <th>percentage_of_teams_total_clutch_points</th>\n",
       "    </tr>\n",
       "  </thead>\n",
       "  <tbody>\n",
       "    <tr>\n",
       "      <th>260</th>\n",
       "      <td>MEM</td>\n",
       "      <td>1.610613e+09</td>\n",
       "      <td>1629630</td>\n",
       "      <td>J. Morant</td>\n",
       "      <td>107</td>\n",
       "      <td>260</td>\n",
       "      <td>41.15</td>\n",
       "    </tr>\n",
       "    <tr>\n",
       "      <th>11</th>\n",
       "      <td>ATL</td>\n",
       "      <td>1.610613e+09</td>\n",
       "      <td>1629027</td>\n",
       "      <td>T. Young</td>\n",
       "      <td>118</td>\n",
       "      <td>291</td>\n",
       "      <td>40.55</td>\n",
       "    </tr>\n",
       "    <tr>\n",
       "      <th>129</th>\n",
       "      <td>DEN</td>\n",
       "      <td>1.610613e+09</td>\n",
       "      <td>203999</td>\n",
       "      <td>N. Jokic</td>\n",
       "      <td>147</td>\n",
       "      <td>371</td>\n",
       "      <td>39.62</td>\n",
       "    </tr>\n",
       "    <tr>\n",
       "      <th>70</th>\n",
       "      <td>CHI</td>\n",
       "      <td>1.610613e+09</td>\n",
       "      <td>201942</td>\n",
       "      <td>D. DeRozan</td>\n",
       "      <td>141</td>\n",
       "      <td>360</td>\n",
       "      <td>39.17</td>\n",
       "    </tr>\n",
       "    <tr>\n",
       "      <th>400</th>\n",
       "      <td>PHI</td>\n",
       "      <td>1.610613e+09</td>\n",
       "      <td>203954</td>\n",
       "      <td>J. Embiid</td>\n",
       "      <td>150</td>\n",
       "      <td>399</td>\n",
       "      <td>37.59</td>\n",
       "    </tr>\n",
       "    <tr>\n",
       "      <th>472</th>\n",
       "      <td>SAS</td>\n",
       "      <td>1.610613e+09</td>\n",
       "      <td>1627749</td>\n",
       "      <td>D. Murray</td>\n",
       "      <td>111</td>\n",
       "      <td>331</td>\n",
       "      <td>33.53</td>\n",
       "    </tr>\n",
       "    <tr>\n",
       "      <th>387</th>\n",
       "      <td>ORL</td>\n",
       "      <td>1.610613e+09</td>\n",
       "      <td>1630175</td>\n",
       "      <td>C. Anthony</td>\n",
       "      <td>87</td>\n",
       "      <td>280</td>\n",
       "      <td>31.07</td>\n",
       "    </tr>\n",
       "    <tr>\n",
       "      <th>305</th>\n",
       "      <td>MIN</td>\n",
       "      <td>1.610613e+09</td>\n",
       "      <td>1626156</td>\n",
       "      <td>D. Russell</td>\n",
       "      <td>80</td>\n",
       "      <td>263</td>\n",
       "      <td>30.42</td>\n",
       "    </tr>\n",
       "    <tr>\n",
       "      <th>121</th>\n",
       "      <td>DAL</td>\n",
       "      <td>1.610613e+09</td>\n",
       "      <td>1629029</td>\n",
       "      <td>L. Doncic</td>\n",
       "      <td>81</td>\n",
       "      <td>268</td>\n",
       "      <td>30.22</td>\n",
       "    </tr>\n",
       "  </tbody>\n",
       "</table>\n",
       "</div>"
      ],
      "text/plain": [
       "    teamTricode        teamId  personId playerNameI  score_valueplayer_points  score_valueteam_points  percentage_of_teams_total_clutch_points\n",
       "260         MEM  1.610613e+09   1629630   J. Morant                       107                     260                                    41.15\n",
       "11          ATL  1.610613e+09   1629027    T. Young                       118                     291                                    40.55\n",
       "129         DEN  1.610613e+09    203999    N. Jokic                       147                     371                                    39.62\n",
       "70          CHI  1.610613e+09    201942  D. DeRozan                       141                     360                                    39.17\n",
       "400         PHI  1.610613e+09    203954   J. Embiid                       150                     399                                    37.59\n",
       "472         SAS  1.610613e+09   1627749   D. Murray                       111                     331                                    33.53\n",
       "387         ORL  1.610613e+09   1630175  C. Anthony                        87                     280                                    31.07\n",
       "305         MIN  1.610613e+09   1626156  D. Russell                        80                     263                                    30.42\n",
       "121         DAL  1.610613e+09   1629029   L. Doncic                        81                     268                                    30.22"
      ]
     },
     "execution_count": 40,
     "metadata": {},
     "output_type": "execute_result"
    }
   ],
   "source": [
    "combined_players_teams_points[combined_players_teams_points.percentage_of_teams_total_clutch_points > 30].sort_values('percentage_of_teams_total_clutch_points', ascending=False)"
   ]
  },
  {
   "cell_type": "code",
   "execution_count": 41,
   "id": "63a71ff7",
   "metadata": {},
   "outputs": [
    {
     "data": {
      "text/html": [
       "<div>\n",
       "<style scoped>\n",
       "    .dataframe tbody tr th:only-of-type {\n",
       "        vertical-align: middle;\n",
       "    }\n",
       "\n",
       "    .dataframe tbody tr th {\n",
       "        vertical-align: top;\n",
       "    }\n",
       "\n",
       "    .dataframe thead th {\n",
       "        text-align: right;\n",
       "    }\n",
       "</style>\n",
       "<table border=\"1\" class=\"dataframe\">\n",
       "  <thead>\n",
       "    <tr style=\"text-align: right;\">\n",
       "      <th></th>\n",
       "      <th>teamTricode</th>\n",
       "      <th>teamId</th>\n",
       "      <th>personId</th>\n",
       "      <th>playerNameI</th>\n",
       "      <th>score_valueplayer_points</th>\n",
       "      <th>score_valueteam_points</th>\n",
       "      <th>percentage_of_teams_total_clutch_points</th>\n",
       "    </tr>\n",
       "  </thead>\n",
       "  <tbody>\n",
       "    <tr>\n",
       "      <th>0</th>\n",
       "      <td>ATL</td>\n",
       "      <td>1.610613e+09</td>\n",
       "      <td>101150</td>\n",
       "      <td>L. Williams</td>\n",
       "      <td>0</td>\n",
       "      <td>291</td>\n",
       "      <td>0.00</td>\n",
       "    </tr>\n",
       "    <tr>\n",
       "      <th>1</th>\n",
       "      <td>ATL</td>\n",
       "      <td>1.610613e+09</td>\n",
       "      <td>201568</td>\n",
       "      <td>D. Gallinari</td>\n",
       "      <td>14</td>\n",
       "      <td>291</td>\n",
       "      <td>4.81</td>\n",
       "    </tr>\n",
       "    <tr>\n",
       "      <th>2</th>\n",
       "      <td>ATL</td>\n",
       "      <td>1.610613e+09</td>\n",
       "      <td>203524</td>\n",
       "      <td>S. Hill</td>\n",
       "      <td>0</td>\n",
       "      <td>291</td>\n",
       "      <td>0.00</td>\n",
       "    </tr>\n",
       "    <tr>\n",
       "      <th>3</th>\n",
       "      <td>ATL</td>\n",
       "      <td>1.610613e+09</td>\n",
       "      <td>203991</td>\n",
       "      <td>C. Capela</td>\n",
       "      <td>23</td>\n",
       "      <td>291</td>\n",
       "      <td>7.90</td>\n",
       "    </tr>\n",
       "    <tr>\n",
       "      <th>4</th>\n",
       "      <td>ATL</td>\n",
       "      <td>1.610613e+09</td>\n",
       "      <td>203992</td>\n",
       "      <td>B. Bogdanovic</td>\n",
       "      <td>53</td>\n",
       "      <td>291</td>\n",
       "      <td>18.21</td>\n",
       "    </tr>\n",
       "    <tr>\n",
       "      <th>...</th>\n",
       "      <td>...</td>\n",
       "      <td>...</td>\n",
       "      <td>...</td>\n",
       "      <td>...</td>\n",
       "      <td>...</td>\n",
       "      <td>...</td>\n",
       "      <td>...</td>\n",
       "    </tr>\n",
       "    <tr>\n",
       "      <th>518</th>\n",
       "      <td>WAS</td>\n",
       "      <td>1.610613e+09</td>\n",
       "      <td>202397</td>\n",
       "      <td>I. Smith</td>\n",
       "      <td>0</td>\n",
       "      <td>371</td>\n",
       "      <td>0.00</td>\n",
       "    </tr>\n",
       "    <tr>\n",
       "      <th>519</th>\n",
       "      <td>WAS</td>\n",
       "      <td>1.610613e+09</td>\n",
       "      <td>202722</td>\n",
       "      <td>D. Bertans</td>\n",
       "      <td>4</td>\n",
       "      <td>371</td>\n",
       "      <td>1.08</td>\n",
       "    </tr>\n",
       "    <tr>\n",
       "      <th>520</th>\n",
       "      <td>WAS</td>\n",
       "      <td>1.610613e+09</td>\n",
       "      <td>203078</td>\n",
       "      <td>B. Beal</td>\n",
       "      <td>58</td>\n",
       "      <td>371</td>\n",
       "      <td>15.63</td>\n",
       "    </tr>\n",
       "    <tr>\n",
       "      <th>521</th>\n",
       "      <td>WAS</td>\n",
       "      <td>1.610613e+09</td>\n",
       "      <td>203107</td>\n",
       "      <td>T. Satoransky</td>\n",
       "      <td>4</td>\n",
       "      <td>371</td>\n",
       "      <td>1.08</td>\n",
       "    </tr>\n",
       "    <tr>\n",
       "      <th>522</th>\n",
       "      <td>WAS</td>\n",
       "      <td>1.610613e+09</td>\n",
       "      <td>203484</td>\n",
       "      <td>K. Caldwell-Pope</td>\n",
       "      <td>49</td>\n",
       "      <td>371</td>\n",
       "      <td>13.21</td>\n",
       "    </tr>\n",
       "  </tbody>\n",
       "</table>\n",
       "<p>150 rows × 7 columns</p>\n",
       "</div>"
      ],
      "text/plain": [
       "    teamTricode        teamId  personId       playerNameI  score_valueplayer_points  score_valueteam_points  percentage_of_teams_total_clutch_points\n",
       "0           ATL  1.610613e+09    101150       L. Williams                         0                     291                                     0.00\n",
       "1           ATL  1.610613e+09    201568      D. Gallinari                        14                     291                                     4.81\n",
       "2           ATL  1.610613e+09    203524           S. Hill                         0                     291                                     0.00\n",
       "3           ATL  1.610613e+09    203991         C. Capela                        23                     291                                     7.90\n",
       "4           ATL  1.610613e+09    203992     B. Bogdanovic                        53                     291                                    18.21\n",
       "..          ...           ...       ...               ...                       ...                     ...                                      ...\n",
       "518         WAS  1.610613e+09    202397          I. Smith                         0                     371                                     0.00\n",
       "519         WAS  1.610613e+09    202722        D. Bertans                         4                     371                                     1.08\n",
       "520         WAS  1.610613e+09    203078           B. Beal                        58                     371                                    15.63\n",
       "521         WAS  1.610613e+09    203107     T. Satoransky                         4                     371                                     1.08\n",
       "522         WAS  1.610613e+09    203484  K. Caldwell-Pope                        49                     371                                    13.21\n",
       "\n",
       "[150 rows x 7 columns]"
      ]
     },
     "execution_count": 41,
     "metadata": {},
     "output_type": "execute_result"
    }
   ],
   "source": [
    "top_5_per_team = combined_players_teams_points.groupby(['teamId', 'teamTricode']).head(5)\n",
    "top_5_per_team"
   ]
  },
  {
   "cell_type": "markdown",
   "id": "1b68deba",
   "metadata": {},
   "source": [
    "## Plotting top 5 players per team clutch points % per team"
   ]
  },
  {
   "cell_type": "code",
   "execution_count": 63,
   "id": "1c3221a6",
   "metadata": {},
   "outputs": [
    {
     "data": {
      "application/vnd.plotly.v1+json": {
       "config": {
        "plotlyServerURL": "https://plot.ly"
       },
       "data": [
        {
         "customdata": [
          [
           "L. Williams"
          ],
          [
           "D. Gallinari"
          ],
          [
           "S. Hill"
          ],
          [
           "C. Capela"
          ],
          [
           "B. Bogdanovic"
          ],
          [
           "L. Aldridge"
          ],
          [
           "P. Millsap"
          ],
          [
           "K. Durant"
          ],
          [
           "G. Dragic"
          ],
          [
           "B. Griffin"
          ],
          [
           "A. Horford"
          ],
          [
           "E. Freedom"
          ],
          [
           "E. Kanter"
          ],
          [
           "D. Schroder"
          ],
          [
           "M. Smart"
          ],
          [
           "G. Hayward"
          ],
          [
           "I. Smith"
          ],
          [
           "I. Thomas"
          ],
          [
           "M. Plumlee"
          ],
          [
           "M. Harrell"
          ],
          [
           "D. DeRozan"
          ],
          [
           "T. Thompson"
          ],
          [
           "N. Vucevic"
          ],
          [
           "Z. LaVine"
          ],
          [
           "D. Jones Jr."
          ],
          [
           "R. Rondo"
          ],
          [
           "K. Love"
          ],
          [
           "R. Rubio"
          ],
          [
           "E. Davis"
          ],
          [
           "C. Osman"
          ],
          [
           "B. Knight"
          ],
          [
           "D. Bertans"
          ],
          [
           "R. Bullock"
          ],
          [
           "T. Hardaway Jr."
          ],
          [
           "T. Burke"
          ],
          [
           "J. Green"
          ],
          [
           "A. Rivers"
          ],
          [
           "W. Barton"
          ],
          [
           "J. Green"
          ],
          [
           "A. Gordon"
          ],
          [
           "C. Joseph"
          ],
          [
           "K. Olynyk"
          ],
          [
           "R. McGruder"
          ],
          [
           "J. Grant"
          ],
          [
           "T. Lyles"
          ],
          [
           "A. Iguodala"
          ],
          [
           "S. Curry"
          ],
          [
           "N. Bjelica"
          ],
          [
           "K. Thompson"
          ],
          [
           "D. Green"
          ],
          [
           "E. Gordon"
          ],
          [
           "D. Augustin"
          ],
          [
           "D. Schroder"
          ],
          [
           "C. Wood"
          ],
          [
           "D. House Jr."
          ],
          [
           "L. Stephenson"
          ],
          [
           "T. Thompson"
          ],
          [
           "J. Lamb"
          ],
          [
           "J. Holiday"
          ],
          [
           "T. McConnell"
          ],
          [
           "S. Ibaka"
          ],
          [
           "N. Batum"
          ],
          [
           "P. George"
          ],
          [
           "E. Bledsoe"
          ],
          [
           "M. Morris Sr."
          ],
          [
           "L. James"
          ],
          [
           "C. Anthony"
          ],
          [
           "D. Howard"
          ],
          [
           "T. Ariza"
          ],
          [
           "R. Rondo"
          ],
          [
           "S. Adams"
          ],
          [
           "K. Anderson"
          ],
          [
           "T. Jones"
          ],
          [
           "D. Brooks"
          ],
          [
           "J. Jackson Jr."
          ],
          [
           "U. Haslem"
          ],
          [
           "K. Lowry"
          ],
          [
           "P. Tucker"
          ],
          [
           "M. Morris"
          ],
          [
           "J. Butler"
          ],
          [
           "B. Lopez"
          ],
          [
           "S. Ibaka"
          ],
          [
           "G. Hill"
          ],
          [
           "J. Holiday"
          ],
          [
           "W. Matthews"
          ],
          [
           "P. Beverley"
          ],
          [
           "G. Monroe"
          ],
          [
           "D. Russell"
          ],
          [
           "K. Towns"
          ],
          [
           "M. Beasley"
          ],
          [
           "G. Temple"
          ],
          [
           "J. Valanciunas"
          ],
          [
           "T. Satoransky"
          ],
          [
           "C. McCollum"
          ],
          [
           "T. Snell"
          ],
          [
           "D. Rose"
          ],
          [
           "T. Gibson"
          ],
          [
           "K. Walker"
          ],
          [
           "A. Burks"
          ],
          [
           "E. Fournier"
          ],
          [
           "D. Favors"
          ],
          [
           "M. Muscala"
          ],
          [
           "S. Gilgeous-Alexander"
          ],
          [
           "K. Williams"
          ],
          [
           "M. Diakite"
          ],
          [
           "R. Lopez"
          ],
          [
           "T. Ross"
          ],
          [
           "G. Harris"
          ],
          [
           "T. Frazier"
          ],
          [
           "M. Mulder"
          ],
          [
           "P. Millsap"
          ],
          [
           "D. Jordan"
          ],
          [
           "J. Harden"
          ],
          [
           "D. Green"
          ],
          [
           "T. Harris"
          ],
          [
           "C. Paul"
          ],
          [
           "J. McGee"
          ],
          [
           "B. Biyombo"
          ],
          [
           "J. Crowder"
          ],
          [
           "E. Payton"
          ],
          [
           "D. Lillard"
          ],
          [
           "B. McLemore"
          ],
          [
           "C. McCollum"
          ],
          [
           "C. Zeller"
          ],
          [
           "R. Covington"
          ],
          [
           "T. Thompson"
          ],
          [
           "H. Barnes"
          ],
          [
           "J. Lamb"
          ],
          [
           "M. Harkless"
          ],
          [
           "J. Holiday"
          ],
          [
           "T. Young"
          ],
          [
           "D. McDermott"
          ],
          [
           "J. Richardson"
          ],
          [
           "D. Murray"
          ],
          [
           "J. Poeltl"
          ],
          [
           "T. Young"
          ],
          [
           "G. Dragic"
          ],
          [
           "K. Birch"
          ],
          [
           "P. Siakam"
          ],
          [
           "F. VanVleet"
          ],
          [
           "R. Gay"
          ],
          [
           "M. Conley"
          ],
          [
           "H. Whiteside"
          ],
          [
           "B. Bogdanovic"
          ],
          [
           "R. Gobert"
          ],
          [
           "I. Smith"
          ],
          [
           "D. Bertans"
          ],
          [
           "B. Beal"
          ],
          [
           "T. Satoransky"
          ],
          [
           "K. Caldwell-Pope"
          ]
         ],
         "hovertemplate": "teamTricode=%{x}<br>percentage_of_teams_total_clutch_points=%{y}<br>playerNameI=%{customdata[0]}<extra></extra>",
         "legendgroup": "",
         "marker": {
          "color": "#636efa",
          "symbol": "circle"
         },
         "mode": "markers",
         "name": "",
         "orientation": "v",
         "showlegend": false,
         "type": "scatter",
         "x": [
          "ATL",
          "ATL",
          "ATL",
          "ATL",
          "ATL",
          "BKN",
          "BKN",
          "BKN",
          "BKN",
          "BKN",
          "BOS",
          "BOS",
          "BOS",
          "BOS",
          "BOS",
          "CHA",
          "CHA",
          "CHA",
          "CHA",
          "CHA",
          "CHI",
          "CHI",
          "CHI",
          "CHI",
          "CHI",
          "CLE",
          "CLE",
          "CLE",
          "CLE",
          "CLE",
          "DAL",
          "DAL",
          "DAL",
          "DAL",
          "DAL",
          "DEN",
          "DEN",
          "DEN",
          "DEN",
          "DEN",
          "DET",
          "DET",
          "DET",
          "DET",
          "DET",
          "GSW",
          "GSW",
          "GSW",
          "GSW",
          "GSW",
          "HOU",
          "HOU",
          "HOU",
          "HOU",
          "HOU",
          "IND",
          "IND",
          "IND",
          "IND",
          "IND",
          "LAC",
          "LAC",
          "LAC",
          "LAC",
          "LAC",
          "LAL",
          "LAL",
          "LAL",
          "LAL",
          "LAL",
          "MEM",
          "MEM",
          "MEM",
          "MEM",
          "MEM",
          "MIA",
          "MIA",
          "MIA",
          "MIA",
          "MIA",
          "MIL",
          "MIL",
          "MIL",
          "MIL",
          "MIL",
          "MIN",
          "MIN",
          "MIN",
          "MIN",
          "MIN",
          "NOP",
          "NOP",
          "NOP",
          "NOP",
          "NOP",
          "NYK",
          "NYK",
          "NYK",
          "NYK",
          "NYK",
          "OKC",
          "OKC",
          "OKC",
          "OKC",
          "OKC",
          "ORL",
          "ORL",
          "ORL",
          "ORL",
          "ORL",
          "PHI",
          "PHI",
          "PHI",
          "PHI",
          "PHI",
          "PHX",
          "PHX",
          "PHX",
          "PHX",
          "PHX",
          "POR",
          "POR",
          "POR",
          "POR",
          "POR",
          "SAC",
          "SAC",
          "SAC",
          "SAC",
          "SAC",
          "SAS",
          "SAS",
          "SAS",
          "SAS",
          "SAS",
          "TOR",
          "TOR",
          "TOR",
          "TOR",
          "TOR",
          "UTA",
          "UTA",
          "UTA",
          "UTA",
          "UTA",
          "WAS",
          "WAS",
          "WAS",
          "WAS",
          "WAS"
         ],
         "xaxis": "x",
         "y": [
          0,
          4.81,
          0,
          7.9,
          18.21,
          7.61,
          0,
          29.08,
          0.54,
          1.09,
          2.98,
          0.89,
          0,
          16.96,
          12.2,
          4.72,
          0,
          0,
          3.33,
          2.78,
          39.17,
          0.56,
          13.06,
          25,
          1.94,
          0.83,
          4.99,
          3.88,
          0,
          4.71,
          0,
          0,
          5.6,
          9.33,
          0,
          3.23,
          4.85,
          14.29,
          1.08,
          13.21,
          8.43,
          1.81,
          0,
          15.66,
          2.11,
          0,
          25.41,
          0.99,
          9.24,
          5.94,
          17.39,
          2.54,
          0.36,
          15.58,
          0,
          2.38,
          0,
          3.33,
          8.08,
          3.56,
          0,
          4.74,
          8.42,
          3.16,
          10.79,
          21.22,
          9.24,
          0,
          0.84,
          0,
          1.92,
          3.08,
          2.69,
          3.08,
          13.85,
          0,
          18.94,
          6.44,
          0,
          17.8,
          0,
          0,
          2.99,
          24.92,
          3.65,
          6.08,
          0,
          30.42,
          19.01,
          6.84,
          2.53,
          17.69,
          0,
          6.5,
          0,
          5.35,
          0.67,
          2.01,
          13.38,
          16.72,
          1.71,
          8.29,
          20.86,
          5.14,
          0.57,
          1.07,
          9.29,
          3.57,
          0.71,
          0,
          0,
          0,
          6.27,
          6.77,
          12.53,
          20.62,
          2.26,
          3.67,
          9.89,
          0,
          13.01,
          2.23,
          6.69,
          0,
          5.2,
          0,
          14.09,
          0.28,
          0,
          0.55,
          1.21,
          2.72,
          3.02,
          33.53,
          12.08,
          2.91,
          0.49,
          1.7,
          13.11,
          22.09,
          2.33,
          23.92,
          1.99,
          15.61,
          20.27,
          0,
          1.08,
          15.63,
          1.08,
          13.21
         ],
         "yaxis": "y"
        }
       ],
       "layout": {
        "legend": {
         "tracegroupgap": 0
        },
        "margin": {
         "t": 60
        },
        "template": {
         "data": {
          "bar": [
           {
            "error_x": {
             "color": "#2a3f5f"
            },
            "error_y": {
             "color": "#2a3f5f"
            },
            "marker": {
             "line": {
              "color": "#E5ECF6",
              "width": 0.5
             },
             "pattern": {
              "fillmode": "overlay",
              "size": 10,
              "solidity": 0.2
             }
            },
            "type": "bar"
           }
          ],
          "barpolar": [
           {
            "marker": {
             "line": {
              "color": "#E5ECF6",
              "width": 0.5
             },
             "pattern": {
              "fillmode": "overlay",
              "size": 10,
              "solidity": 0.2
             }
            },
            "type": "barpolar"
           }
          ],
          "carpet": [
           {
            "aaxis": {
             "endlinecolor": "#2a3f5f",
             "gridcolor": "white",
             "linecolor": "white",
             "minorgridcolor": "white",
             "startlinecolor": "#2a3f5f"
            },
            "baxis": {
             "endlinecolor": "#2a3f5f",
             "gridcolor": "white",
             "linecolor": "white",
             "minorgridcolor": "white",
             "startlinecolor": "#2a3f5f"
            },
            "type": "carpet"
           }
          ],
          "choropleth": [
           {
            "colorbar": {
             "outlinewidth": 0,
             "ticks": ""
            },
            "type": "choropleth"
           }
          ],
          "contour": [
           {
            "colorbar": {
             "outlinewidth": 0,
             "ticks": ""
            },
            "colorscale": [
             [
              0,
              "#0d0887"
             ],
             [
              0.1111111111111111,
              "#46039f"
             ],
             [
              0.2222222222222222,
              "#7201a8"
             ],
             [
              0.3333333333333333,
              "#9c179e"
             ],
             [
              0.4444444444444444,
              "#bd3786"
             ],
             [
              0.5555555555555556,
              "#d8576b"
             ],
             [
              0.6666666666666666,
              "#ed7953"
             ],
             [
              0.7777777777777778,
              "#fb9f3a"
             ],
             [
              0.8888888888888888,
              "#fdca26"
             ],
             [
              1,
              "#f0f921"
             ]
            ],
            "type": "contour"
           }
          ],
          "contourcarpet": [
           {
            "colorbar": {
             "outlinewidth": 0,
             "ticks": ""
            },
            "type": "contourcarpet"
           }
          ],
          "heatmap": [
           {
            "colorbar": {
             "outlinewidth": 0,
             "ticks": ""
            },
            "colorscale": [
             [
              0,
              "#0d0887"
             ],
             [
              0.1111111111111111,
              "#46039f"
             ],
             [
              0.2222222222222222,
              "#7201a8"
             ],
             [
              0.3333333333333333,
              "#9c179e"
             ],
             [
              0.4444444444444444,
              "#bd3786"
             ],
             [
              0.5555555555555556,
              "#d8576b"
             ],
             [
              0.6666666666666666,
              "#ed7953"
             ],
             [
              0.7777777777777778,
              "#fb9f3a"
             ],
             [
              0.8888888888888888,
              "#fdca26"
             ],
             [
              1,
              "#f0f921"
             ]
            ],
            "type": "heatmap"
           }
          ],
          "heatmapgl": [
           {
            "colorbar": {
             "outlinewidth": 0,
             "ticks": ""
            },
            "colorscale": [
             [
              0,
              "#0d0887"
             ],
             [
              0.1111111111111111,
              "#46039f"
             ],
             [
              0.2222222222222222,
              "#7201a8"
             ],
             [
              0.3333333333333333,
              "#9c179e"
             ],
             [
              0.4444444444444444,
              "#bd3786"
             ],
             [
              0.5555555555555556,
              "#d8576b"
             ],
             [
              0.6666666666666666,
              "#ed7953"
             ],
             [
              0.7777777777777778,
              "#fb9f3a"
             ],
             [
              0.8888888888888888,
              "#fdca26"
             ],
             [
              1,
              "#f0f921"
             ]
            ],
            "type": "heatmapgl"
           }
          ],
          "histogram": [
           {
            "marker": {
             "pattern": {
              "fillmode": "overlay",
              "size": 10,
              "solidity": 0.2
             }
            },
            "type": "histogram"
           }
          ],
          "histogram2d": [
           {
            "colorbar": {
             "outlinewidth": 0,
             "ticks": ""
            },
            "colorscale": [
             [
              0,
              "#0d0887"
             ],
             [
              0.1111111111111111,
              "#46039f"
             ],
             [
              0.2222222222222222,
              "#7201a8"
             ],
             [
              0.3333333333333333,
              "#9c179e"
             ],
             [
              0.4444444444444444,
              "#bd3786"
             ],
             [
              0.5555555555555556,
              "#d8576b"
             ],
             [
              0.6666666666666666,
              "#ed7953"
             ],
             [
              0.7777777777777778,
              "#fb9f3a"
             ],
             [
              0.8888888888888888,
              "#fdca26"
             ],
             [
              1,
              "#f0f921"
             ]
            ],
            "type": "histogram2d"
           }
          ],
          "histogram2dcontour": [
           {
            "colorbar": {
             "outlinewidth": 0,
             "ticks": ""
            },
            "colorscale": [
             [
              0,
              "#0d0887"
             ],
             [
              0.1111111111111111,
              "#46039f"
             ],
             [
              0.2222222222222222,
              "#7201a8"
             ],
             [
              0.3333333333333333,
              "#9c179e"
             ],
             [
              0.4444444444444444,
              "#bd3786"
             ],
             [
              0.5555555555555556,
              "#d8576b"
             ],
             [
              0.6666666666666666,
              "#ed7953"
             ],
             [
              0.7777777777777778,
              "#fb9f3a"
             ],
             [
              0.8888888888888888,
              "#fdca26"
             ],
             [
              1,
              "#f0f921"
             ]
            ],
            "type": "histogram2dcontour"
           }
          ],
          "mesh3d": [
           {
            "colorbar": {
             "outlinewidth": 0,
             "ticks": ""
            },
            "type": "mesh3d"
           }
          ],
          "parcoords": [
           {
            "line": {
             "colorbar": {
              "outlinewidth": 0,
              "ticks": ""
             }
            },
            "type": "parcoords"
           }
          ],
          "pie": [
           {
            "automargin": true,
            "type": "pie"
           }
          ],
          "scatter": [
           {
            "fillpattern": {
             "fillmode": "overlay",
             "size": 10,
             "solidity": 0.2
            },
            "type": "scatter"
           }
          ],
          "scatter3d": [
           {
            "line": {
             "colorbar": {
              "outlinewidth": 0,
              "ticks": ""
             }
            },
            "marker": {
             "colorbar": {
              "outlinewidth": 0,
              "ticks": ""
             }
            },
            "type": "scatter3d"
           }
          ],
          "scattercarpet": [
           {
            "marker": {
             "colorbar": {
              "outlinewidth": 0,
              "ticks": ""
             }
            },
            "type": "scattercarpet"
           }
          ],
          "scattergeo": [
           {
            "marker": {
             "colorbar": {
              "outlinewidth": 0,
              "ticks": ""
             }
            },
            "type": "scattergeo"
           }
          ],
          "scattergl": [
           {
            "marker": {
             "colorbar": {
              "outlinewidth": 0,
              "ticks": ""
             }
            },
            "type": "scattergl"
           }
          ],
          "scattermapbox": [
           {
            "marker": {
             "colorbar": {
              "outlinewidth": 0,
              "ticks": ""
             }
            },
            "type": "scattermapbox"
           }
          ],
          "scatterpolar": [
           {
            "marker": {
             "colorbar": {
              "outlinewidth": 0,
              "ticks": ""
             }
            },
            "type": "scatterpolar"
           }
          ],
          "scatterpolargl": [
           {
            "marker": {
             "colorbar": {
              "outlinewidth": 0,
              "ticks": ""
             }
            },
            "type": "scatterpolargl"
           }
          ],
          "scatterternary": [
           {
            "marker": {
             "colorbar": {
              "outlinewidth": 0,
              "ticks": ""
             }
            },
            "type": "scatterternary"
           }
          ],
          "surface": [
           {
            "colorbar": {
             "outlinewidth": 0,
             "ticks": ""
            },
            "colorscale": [
             [
              0,
              "#0d0887"
             ],
             [
              0.1111111111111111,
              "#46039f"
             ],
             [
              0.2222222222222222,
              "#7201a8"
             ],
             [
              0.3333333333333333,
              "#9c179e"
             ],
             [
              0.4444444444444444,
              "#bd3786"
             ],
             [
              0.5555555555555556,
              "#d8576b"
             ],
             [
              0.6666666666666666,
              "#ed7953"
             ],
             [
              0.7777777777777778,
              "#fb9f3a"
             ],
             [
              0.8888888888888888,
              "#fdca26"
             ],
             [
              1,
              "#f0f921"
             ]
            ],
            "type": "surface"
           }
          ],
          "table": [
           {
            "cells": {
             "fill": {
              "color": "#EBF0F8"
             },
             "line": {
              "color": "white"
             }
            },
            "header": {
             "fill": {
              "color": "#C8D4E3"
             },
             "line": {
              "color": "white"
             }
            },
            "type": "table"
           }
          ]
         },
         "layout": {
          "annotationdefaults": {
           "arrowcolor": "#2a3f5f",
           "arrowhead": 0,
           "arrowwidth": 1
          },
          "autotypenumbers": "strict",
          "coloraxis": {
           "colorbar": {
            "outlinewidth": 0,
            "ticks": ""
           }
          },
          "colorscale": {
           "diverging": [
            [
             0,
             "#8e0152"
            ],
            [
             0.1,
             "#c51b7d"
            ],
            [
             0.2,
             "#de77ae"
            ],
            [
             0.3,
             "#f1b6da"
            ],
            [
             0.4,
             "#fde0ef"
            ],
            [
             0.5,
             "#f7f7f7"
            ],
            [
             0.6,
             "#e6f5d0"
            ],
            [
             0.7,
             "#b8e186"
            ],
            [
             0.8,
             "#7fbc41"
            ],
            [
             0.9,
             "#4d9221"
            ],
            [
             1,
             "#276419"
            ]
           ],
           "sequential": [
            [
             0,
             "#0d0887"
            ],
            [
             0.1111111111111111,
             "#46039f"
            ],
            [
             0.2222222222222222,
             "#7201a8"
            ],
            [
             0.3333333333333333,
             "#9c179e"
            ],
            [
             0.4444444444444444,
             "#bd3786"
            ],
            [
             0.5555555555555556,
             "#d8576b"
            ],
            [
             0.6666666666666666,
             "#ed7953"
            ],
            [
             0.7777777777777778,
             "#fb9f3a"
            ],
            [
             0.8888888888888888,
             "#fdca26"
            ],
            [
             1,
             "#f0f921"
            ]
           ],
           "sequentialminus": [
            [
             0,
             "#0d0887"
            ],
            [
             0.1111111111111111,
             "#46039f"
            ],
            [
             0.2222222222222222,
             "#7201a8"
            ],
            [
             0.3333333333333333,
             "#9c179e"
            ],
            [
             0.4444444444444444,
             "#bd3786"
            ],
            [
             0.5555555555555556,
             "#d8576b"
            ],
            [
             0.6666666666666666,
             "#ed7953"
            ],
            [
             0.7777777777777778,
             "#fb9f3a"
            ],
            [
             0.8888888888888888,
             "#fdca26"
            ],
            [
             1,
             "#f0f921"
            ]
           ]
          },
          "colorway": [
           "#636efa",
           "#EF553B",
           "#00cc96",
           "#ab63fa",
           "#FFA15A",
           "#19d3f3",
           "#FF6692",
           "#B6E880",
           "#FF97FF",
           "#FECB52"
          ],
          "font": {
           "color": "#2a3f5f"
          },
          "geo": {
           "bgcolor": "white",
           "lakecolor": "white",
           "landcolor": "#E5ECF6",
           "showlakes": true,
           "showland": true,
           "subunitcolor": "white"
          },
          "hoverlabel": {
           "align": "left"
          },
          "hovermode": "closest",
          "mapbox": {
           "style": "light"
          },
          "paper_bgcolor": "white",
          "plot_bgcolor": "#E5ECF6",
          "polar": {
           "angularaxis": {
            "gridcolor": "white",
            "linecolor": "white",
            "ticks": ""
           },
           "bgcolor": "#E5ECF6",
           "radialaxis": {
            "gridcolor": "white",
            "linecolor": "white",
            "ticks": ""
           }
          },
          "scene": {
           "xaxis": {
            "backgroundcolor": "#E5ECF6",
            "gridcolor": "white",
            "gridwidth": 2,
            "linecolor": "white",
            "showbackground": true,
            "ticks": "",
            "zerolinecolor": "white"
           },
           "yaxis": {
            "backgroundcolor": "#E5ECF6",
            "gridcolor": "white",
            "gridwidth": 2,
            "linecolor": "white",
            "showbackground": true,
            "ticks": "",
            "zerolinecolor": "white"
           },
           "zaxis": {
            "backgroundcolor": "#E5ECF6",
            "gridcolor": "white",
            "gridwidth": 2,
            "linecolor": "white",
            "showbackground": true,
            "ticks": "",
            "zerolinecolor": "white"
           }
          },
          "shapedefaults": {
           "line": {
            "color": "#2a3f5f"
           }
          },
          "ternary": {
           "aaxis": {
            "gridcolor": "white",
            "linecolor": "white",
            "ticks": ""
           },
           "baxis": {
            "gridcolor": "white",
            "linecolor": "white",
            "ticks": ""
           },
           "bgcolor": "#E5ECF6",
           "caxis": {
            "gridcolor": "white",
            "linecolor": "white",
            "ticks": ""
           }
          },
          "title": {
           "x": 0.05
          },
          "xaxis": {
           "automargin": true,
           "gridcolor": "white",
           "linecolor": "white",
           "ticks": "",
           "title": {
            "standoff": 15
           },
           "zerolinecolor": "white",
           "zerolinewidth": 2
          },
          "yaxis": {
           "automargin": true,
           "gridcolor": "white",
           "linecolor": "white",
           "ticks": "",
           "title": {
            "standoff": 15
           },
           "zerolinecolor": "white",
           "zerolinewidth": 2
          }
         }
        },
        "xaxis": {
         "anchor": "y",
         "domain": [
          0,
          1
         ],
         "title": {
          "text": "teamTricode"
         }
        },
        "yaxis": {
         "anchor": "x",
         "domain": [
          0,
          1
         ],
         "title": {
          "text": "percentage_of_teams_total_clutch_points"
         }
        }
       }
      }
     },
     "metadata": {},
     "output_type": "display_data"
    }
   ],
   "source": [
    "px.scatter(top_5_per_team, x=top_5_per_team.teamTricode, y=top_5_per_team.percentage_of_teams_total_clutch_points, hover_data=['playerNameI'])"
   ]
  },
  {
   "cell_type": "code",
   "execution_count": null,
   "id": "c93b1ee9",
   "metadata": {},
   "outputs": [],
   "source": [
    "#Notes for to dos for this data set\n",
    "# --What duo had the most assits to dunks in the NBA\n",
    "# --best assist to turn over ratio\n",
    "# !!!!!!!!do one of those attribute hexagon charts where I plot 3pt, 2pt (type of 2 pt), and free throw % of each team!!!!!!!!!\n",
    "    # 3pt%\n",
    "    # 2pt%\n",
    "    # FT%\n",
    "    # Ass/turnover ratio\n",
    "\n",
    "\n",
    "\n",
    "\n",
    "#############################################################################\n",
    "# \"\"\"\n",
    "# Add Stats around TS and other stats like variability and a distribution curve\n",
    "# Plot it againts league average \n",
    "# Grab players that exhibit the most varibaility or the least\n",
    "# \"\"\"\n",
    "#############################################################################"
   ]
  },
  {
   "cell_type": "markdown",
   "id": "47afac44",
   "metadata": {},
   "source": [
    "## Analyzing what players has the most assits to a basket that = dunk "
   ]
  },
  {
   "cell_type": "code",
   "execution_count": null,
   "id": "bbb95d4e",
   "metadata": {},
   "outputs": [],
   "source": [
    "#looking into what player has assisted the most dunks in the nba (or per team)\n",
    "assists = final_df[(final_df.subType == 'DUNK') & (pd.notnull(final_df.assistPlayerNameInitial) != True)].loc[:,['assistPlayerNameInitial','playerNameI','teamTricode', 'teamId' ]]"
   ]
  },
  {
   "cell_type": "code",
   "execution_count": null,
   "id": "66588531",
   "metadata": {},
   "outputs": [],
   "source": [
    "#adding new col with combined player\n",
    "assists = assists[pd.notnull(assists.assistPlayerNameInitial)]"
   ]
  },
  {
   "cell_type": "code",
   "execution_count": null,
   "id": "b6ac7297",
   "metadata": {},
   "outputs": [],
   "source": [
    "assists['assistor-assiste'] = assists.assistPlayerNameInitial + '  to  ' + assists.playerNameI  "
   ]
  },
  {
   "cell_type": "code",
   "execution_count": null,
   "id": "9b784030",
   "metadata": {},
   "outputs": [],
   "source": [
    "# assists.columns()"
   ]
  },
  {
   "cell_type": "code",
   "execution_count": null,
   "id": "623f4b66",
   "metadata": {},
   "outputs": [],
   "source": [
    "assistsfinal = assists.loc[: ,['teamTricode','assistor-assiste']].sort_values(by=['teamTricode'])"
   ]
  },
  {
   "cell_type": "code",
   "execution_count": null,
   "id": "c5462268",
   "metadata": {},
   "outputs": [],
   "source": [
    "assists_grouped = assistsfinal.groupby(['teamTricode','assistor-assiste'])['assistor-assiste'].count()"
   ]
  },
  {
   "cell_type": "code",
   "execution_count": null,
   "id": "632f8363",
   "metadata": {},
   "outputs": [
    {
     "data": {
      "text/plain": [
       "teamTricode  assistor-assiste               \n",
       "ATL          B. Bogdanovic  to  C. Capela       6\n",
       "             B. Bogdanovic  to  D. Gallinari    3\n",
       "             B. Bogdanovic  to  D. Hunter       3\n",
       "             B. Bogdanovic  to  J. Collins      1\n",
       "             B. Bogdanovic  to  J. Johnson      1\n",
       "                                               ..\n",
       "WAS          T. Satoransky  to  C. Kispert      2\n",
       "             T. Satoransky  to  D. Gafford      5\n",
       "             T. Satoransky  to  K. Porzingis    6\n",
       "             T. Satoransky  to  R. Hachimura    4\n",
       "             T. Satoransky  to  T. Bryant       1\n",
       "Name: assistor-assiste, Length: 2570, dtype: int64"
      ]
     },
     "execution_count": 55,
     "metadata": {},
     "output_type": "execute_result"
    }
   ],
   "source": [
    "assists_grouped"
   ]
  }
 ],
 "metadata": {
  "kernelspec": {
   "display_name": "Python 3.11.0 64-bit",
   "language": "python",
   "name": "python3"
  },
  "language_info": {
   "codemirror_mode": {
    "name": "ipython",
    "version": 3
   },
   "file_extension": ".py",
   "mimetype": "text/x-python",
   "name": "python",
   "nbconvert_exporter": "python",
   "pygments_lexer": "ipython3",
   "version": "3.11.0"
  },
  "vscode": {
   "interpreter": {
    "hash": "aee8b7b246df8f9039afb4144a1f6fd8d2ca17a180786b69acc140d282b71a49"
   }
  }
 },
 "nbformat": 4,
 "nbformat_minor": 5
}
